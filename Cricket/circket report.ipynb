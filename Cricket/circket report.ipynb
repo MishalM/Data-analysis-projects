{
 "cells": [
  {
   "cell_type": "markdown",
   "id": "significant-average",
   "metadata": {},
   "source": [
    "## Import Library"
   ]
  },
  {
   "cell_type": "code",
   "execution_count": 1,
   "id": "matched-organizer",
   "metadata": {},
   "outputs": [],
   "source": [
    "import pandas as pd\n",
    "from heapq import nlargest"
   ]
  },
  {
   "cell_type": "markdown",
   "id": "federal-nightmare",
   "metadata": {},
   "source": [
    "## Import Data"
   ]
  },
  {
   "cell_type": "code",
   "execution_count": 2,
   "id": "present-secretariat",
   "metadata": {},
   "outputs": [
    {
     "data": {
      "text/html": [
       "<div>\n",
       "<style scoped>\n",
       "    .dataframe tbody tr th:only-of-type {\n",
       "        vertical-align: middle;\n",
       "    }\n",
       "\n",
       "    .dataframe tbody tr th {\n",
       "        vertical-align: top;\n",
       "    }\n",
       "\n",
       "    .dataframe thead th {\n",
       "        text-align: right;\n",
       "    }\n",
       "</style>\n",
       "<table border=\"1\" class=\"dataframe\">\n",
       "  <thead>\n",
       "    <tr style=\"text-align: right;\">\n",
       "      <th></th>\n",
       "      <th>Team 1</th>\n",
       "      <th>Team 2</th>\n",
       "      <th>Winner</th>\n",
       "      <th>Margin</th>\n",
       "      <th>Ground</th>\n",
       "      <th>Country</th>\n",
       "      <th>Match Date</th>\n",
       "      <th>Scorecard</th>\n",
       "    </tr>\n",
       "  </thead>\n",
       "  <tbody>\n",
       "    <tr>\n",
       "      <th>0</th>\n",
       "      <td>New Zealand</td>\n",
       "      <td>Pakistan</td>\n",
       "      <td>New Zealand</td>\n",
       "      <td>61 runs</td>\n",
       "      <td>Wellington</td>\n",
       "      <td>New Zealand</td>\n",
       "      <td>06-Jan-18</td>\n",
       "      <td>ODI # 3946</td>\n",
       "    </tr>\n",
       "    <tr>\n",
       "      <th>1</th>\n",
       "      <td>New Zealand</td>\n",
       "      <td>Pakistan</td>\n",
       "      <td>New Zealand</td>\n",
       "      <td>8 wickets</td>\n",
       "      <td>Nelson</td>\n",
       "      <td>Canada</td>\n",
       "      <td>09-Jan-18</td>\n",
       "      <td>ODI # 3947</td>\n",
       "    </tr>\n",
       "    <tr>\n",
       "      <th>2</th>\n",
       "      <td>U.A.E.</td>\n",
       "      <td>Ireland</td>\n",
       "      <td>Ireland</td>\n",
       "      <td>4 wickets</td>\n",
       "      <td>ICCA Dubai</td>\n",
       "      <td>Dubai</td>\n",
       "      <td>11-Jan-18</td>\n",
       "      <td>ODI # 3948</td>\n",
       "    </tr>\n",
       "    <tr>\n",
       "      <th>3</th>\n",
       "      <td>New Zealand</td>\n",
       "      <td>Pakistan</td>\n",
       "      <td>New Zealand</td>\n",
       "      <td>183 runs</td>\n",
       "      <td>Dunedin</td>\n",
       "      <td>New Zealand</td>\n",
       "      <td>13-Jan-18</td>\n",
       "      <td>ODI # 3949</td>\n",
       "    </tr>\n",
       "    <tr>\n",
       "      <th>4</th>\n",
       "      <td>U.A.E.</td>\n",
       "      <td>Ireland</td>\n",
       "      <td>Ireland</td>\n",
       "      <td>67 runs</td>\n",
       "      <td>ICCA Dubai</td>\n",
       "      <td>Dubai</td>\n",
       "      <td>13-Jan-18</td>\n",
       "      <td>ODI # 3950</td>\n",
       "    </tr>\n",
       "  </tbody>\n",
       "</table>\n",
       "</div>"
      ],
      "text/plain": [
       "        Team 1    Team 2       Winner     Margin      Ground      Country  \\\n",
       "0  New Zealand  Pakistan  New Zealand    61 runs  Wellington  New Zealand   \n",
       "1  New Zealand  Pakistan  New Zealand  8 wickets      Nelson       Canada   \n",
       "2       U.A.E.   Ireland      Ireland  4 wickets  ICCA Dubai        Dubai   \n",
       "3  New Zealand  Pakistan  New Zealand   183 runs     Dunedin  New Zealand   \n",
       "4       U.A.E.   Ireland      Ireland    67 runs  ICCA Dubai        Dubai   \n",
       "\n",
       "  Match Date   Scorecard  \n",
       "0  06-Jan-18  ODI # 3946  \n",
       "1  09-Jan-18  ODI # 3947  \n",
       "2  11-Jan-18  ODI # 3948  \n",
       "3  13-Jan-18  ODI # 3949  \n",
       "4  13-Jan-18  ODI # 3950  "
      ]
     },
     "execution_count": 2,
     "metadata": {},
     "output_type": "execute_result"
    }
   ],
   "source": [
    "data = pd.read_csv('2019_ODI.csv')\n",
    "data.head()"
   ]
  },
  {
   "cell_type": "markdown",
   "id": "outdoor-correction",
   "metadata": {},
   "source": [
    "### Updating datalist"
   ]
  },
  {
   "cell_type": "code",
   "execution_count": 3,
   "id": "preliminary-briefs",
   "metadata": {},
   "outputs": [
    {
     "data": {
      "text/html": [
       "<div>\n",
       "<style scoped>\n",
       "    .dataframe tbody tr th:only-of-type {\n",
       "        vertical-align: middle;\n",
       "    }\n",
       "\n",
       "    .dataframe tbody tr th {\n",
       "        vertical-align: top;\n",
       "    }\n",
       "\n",
       "    .dataframe thead th {\n",
       "        text-align: right;\n",
       "    }\n",
       "</style>\n",
       "<table border=\"1\" class=\"dataframe\">\n",
       "  <thead>\n",
       "    <tr style=\"text-align: right;\">\n",
       "      <th></th>\n",
       "      <th>Team 1</th>\n",
       "      <th>Team 2</th>\n",
       "      <th>Winner</th>\n",
       "      <th>Margin</th>\n",
       "      <th>Ground</th>\n",
       "      <th>Country</th>\n",
       "      <th>Match Date</th>\n",
       "      <th>Scorecard</th>\n",
       "      <th>Win by runs</th>\n",
       "      <th>Win by wickets</th>\n",
       "      <th>Date</th>\n",
       "      <th>Month</th>\n",
       "      <th>Year</th>\n",
       "    </tr>\n",
       "  </thead>\n",
       "  <tbody>\n",
       "    <tr>\n",
       "      <th>0</th>\n",
       "      <td>New Zealand</td>\n",
       "      <td>Pakistan</td>\n",
       "      <td>New Zealand</td>\n",
       "      <td>61 runs</td>\n",
       "      <td>Wellington</td>\n",
       "      <td>New Zealand</td>\n",
       "      <td>06-Jan-18</td>\n",
       "      <td>ODI # 3946</td>\n",
       "      <td>61</td>\n",
       "      <td></td>\n",
       "      <td>06</td>\n",
       "      <td>Jan</td>\n",
       "      <td>18</td>\n",
       "    </tr>\n",
       "    <tr>\n",
       "      <th>1</th>\n",
       "      <td>New Zealand</td>\n",
       "      <td>Pakistan</td>\n",
       "      <td>New Zealand</td>\n",
       "      <td>8 wickets</td>\n",
       "      <td>Nelson</td>\n",
       "      <td>Canada</td>\n",
       "      <td>09-Jan-18</td>\n",
       "      <td>ODI # 3947</td>\n",
       "      <td></td>\n",
       "      <td>8</td>\n",
       "      <td>09</td>\n",
       "      <td>Jan</td>\n",
       "      <td>18</td>\n",
       "    </tr>\n",
       "    <tr>\n",
       "      <th>2</th>\n",
       "      <td>U.A.E.</td>\n",
       "      <td>Ireland</td>\n",
       "      <td>Ireland</td>\n",
       "      <td>4 wickets</td>\n",
       "      <td>ICCA Dubai</td>\n",
       "      <td>Dubai</td>\n",
       "      <td>11-Jan-18</td>\n",
       "      <td>ODI # 3948</td>\n",
       "      <td></td>\n",
       "      <td>4</td>\n",
       "      <td>11</td>\n",
       "      <td>Jan</td>\n",
       "      <td>18</td>\n",
       "    </tr>\n",
       "    <tr>\n",
       "      <th>3</th>\n",
       "      <td>New Zealand</td>\n",
       "      <td>Pakistan</td>\n",
       "      <td>New Zealand</td>\n",
       "      <td>183 runs</td>\n",
       "      <td>Dunedin</td>\n",
       "      <td>New Zealand</td>\n",
       "      <td>13-Jan-18</td>\n",
       "      <td>ODI # 3949</td>\n",
       "      <td>183</td>\n",
       "      <td></td>\n",
       "      <td>13</td>\n",
       "      <td>Jan</td>\n",
       "      <td>18</td>\n",
       "    </tr>\n",
       "    <tr>\n",
       "      <th>4</th>\n",
       "      <td>U.A.E.</td>\n",
       "      <td>Ireland</td>\n",
       "      <td>Ireland</td>\n",
       "      <td>67 runs</td>\n",
       "      <td>ICCA Dubai</td>\n",
       "      <td>Dubai</td>\n",
       "      <td>13-Jan-18</td>\n",
       "      <td>ODI # 3950</td>\n",
       "      <td>67</td>\n",
       "      <td></td>\n",
       "      <td>13</td>\n",
       "      <td>Jan</td>\n",
       "      <td>18</td>\n",
       "    </tr>\n",
       "  </tbody>\n",
       "</table>\n",
       "</div>"
      ],
      "text/plain": [
       "        Team 1    Team 2       Winner     Margin      Ground      Country  \\\n",
       "0  New Zealand  Pakistan  New Zealand    61 runs  Wellington  New Zealand   \n",
       "1  New Zealand  Pakistan  New Zealand  8 wickets      Nelson       Canada   \n",
       "2       U.A.E.   Ireland      Ireland  4 wickets  ICCA Dubai        Dubai   \n",
       "3  New Zealand  Pakistan  New Zealand   183 runs     Dunedin  New Zealand   \n",
       "4       U.A.E.   Ireland      Ireland    67 runs  ICCA Dubai        Dubai   \n",
       "\n",
       "  Match Date   Scorecard Win by runs Win by wickets Date Month Year  \n",
       "0  06-Jan-18  ODI # 3946          61                  06   Jan   18  \n",
       "1  09-Jan-18  ODI # 3947                          8   09   Jan   18  \n",
       "2  11-Jan-18  ODI # 3948                          4   11   Jan   18  \n",
       "3  13-Jan-18  ODI # 3949         183                  13   Jan   18  \n",
       "4  13-Jan-18  ODI # 3950          67                  13   Jan   18  "
      ]
     },
     "execution_count": 3,
     "metadata": {},
     "output_type": "execute_result"
    }
   ],
   "source": [
    "data['Win by runs'] = \"\"\n",
    "data['Win by wickets'] = \"\"\n",
    "data['Date'] = \"\"\n",
    "data['Month'] = \"\"\n",
    "data['Year'] = \"\"\n",
    "\n",
    "for i in range(len(data)):\n",
    "    if data['Margin'][i] == 'None':\n",
    "        pass\n",
    "    else:\n",
    "        m = data['Margin'][i]\n",
    "        mrg = m.split(' ')\n",
    "        if mrg[1] == 'runs':\n",
    "            data['Win by runs'][i] = int(mrg[0])\n",
    "        elif mrg[1] == 'wickets':\n",
    "            data['Win by wickets'][i] = int(mrg[0])\n",
    "    \n",
    "    date = data['Match Date'][i]\n",
    "    dd = date.split('-')\n",
    "    data['Date'][i] = dd[0]\n",
    "    data['Month'][i] = dd[1]  \n",
    "    data['Year'][i] = dd[2]\n",
    "\n",
    "            \n",
    "data.head()"
   ]
  },
  {
   "cell_type": "markdown",
   "id": "alive-position",
   "metadata": {},
   "source": [
    "### Getting team list"
   ]
  },
  {
   "cell_type": "code",
   "execution_count": 4,
   "id": "geographic-raleigh",
   "metadata": {},
   "outputs": [
    {
     "name": "stdout",
     "output_type": "stream",
     "text": [
      "There are total of 18 teams. They are \n",
      "New Zealand\n",
      "Pakistan\n",
      "U.A.E.\n",
      "Ireland\n",
      "Australia\n",
      "England\n",
      "Bangladesh\n",
      "Zimbabwe\n",
      "Scotland\n",
      "Sri Lanka\n",
      "South Africa\n",
      "India\n",
      "Afghanistan\n",
      "P.N.G.\n",
      "Hong Kong\n",
      "West Indies\n",
      "Netherlands\n",
      "Nepal\n"
     ]
    }
   ],
   "source": [
    "team_list = []\n",
    "for i in range(len(data)):\n",
    "    if data['Team 1'][i] not in team_list:\n",
    "        team_list.append(data['Team 1'][i])\n",
    "    if data['Team 2'][i] not in team_list:\n",
    "        team_list.append(data['Team 2'][i])\n",
    "\n",
    "print(f\"There are total of {len(team_list)} teams. They are \")\n",
    "for i in team_list:\n",
    "    print(i)"
   ]
  },
  {
   "cell_type": "markdown",
   "id": "manufactured-boundary",
   "metadata": {},
   "source": [
    "### Top 3 played team and winners"
   ]
  },
  {
   "cell_type": "code",
   "execution_count": 5,
   "id": "sought-tragedy",
   "metadata": {},
   "outputs": [
    {
     "name": "stdout",
     "output_type": "stream",
     "text": [
      "The Country played most in 2018 are Zimbabwe by 26 games, England by 24 games and Bangladesh by 20 games\n",
      "Top three countries who win most in 2018 are England by 17 wins, India by 14 wins and Bangladesh by 13 wins.\n"
     ]
    }
   ],
   "source": [
    "team_play = {}\n",
    "team_win = {}\n",
    "for i in range(len(data)):\n",
    "    if data['Team 1'][i] in team_play:\n",
    "        team_play[data['Team 1'][i]] += 1\n",
    "    else:\n",
    "        team_play[data['Team 1'][i]] = 1\n",
    "        \n",
    "    if data['Team 2'][i] in team_play:\n",
    "        team_play[data['Team 2'][i]] += 1\n",
    "    else:\n",
    "        team_play[data['Team 2'][i]] = 1\n",
    "        \n",
    "    if data['Winner'][i] in team_win:\n",
    "        team_win[data['Winner'][i]] += 1\n",
    "    else:\n",
    "        team_win[data['Winner'][i]] = 1\n",
    "    \n",
    "\n",
    "three_largest = nlargest(3, team_play, key=team_play.get)\n",
    "three_wins = nlargest(3, team_win, key=team_win.get)\n",
    "\n",
    "print(f\"The Country played most in 2018 are {three_largest[0]} by {team_play[three_largest[0]]} games, {three_largest[1]} by {team_play[three_largest[1]]} games and {three_largest[2]} by {team_play[three_largest[2]]} games\")\n",
    "print(f\"Top three countries who win most in 2018 are {three_wins[0]} by {team_win[three_wins[0]]} wins, {three_wins[1]} by {team_win[three_wins[1]]} wins and {three_wins[2]} by {team_win[three_wins[2]]} wins.\")"
   ]
  },
  {
   "cell_type": "markdown",
   "id": "latest-algeria",
   "metadata": {},
   "source": [
    "### Most matches in home country"
   ]
  },
  {
   "cell_type": "code",
   "execution_count": 6,
   "id": "parallel-dream",
   "metadata": {},
   "outputs": [
    {
     "name": "stdout",
     "output_type": "stream",
     "text": [
      "The top 3 countries who played most in their home ground are Zimbabwe with 11 games, Bangladesh with 10 games and Sri Lanka with 10 games\n"
     ]
    }
   ],
   "source": [
    "home_play = {}\n",
    "for i in range(len(data)):\n",
    "    if data['Team 1'][i] == data['Country'][i]:\n",
    "        if data['Team 1'][i] in home_play:\n",
    "            home_play[data['Team 1'][i]] += 1\n",
    "        else:\n",
    "            home_play[data['Team 1'][i]] = 1\n",
    "            \n",
    "    if data['Team 2'][i] == data['Country'][i]:\n",
    "        if data['Team 2'][i] in home_play:\n",
    "            home_play[data['Team 2'][i]] += 1\n",
    "        else:\n",
    "            home_play[data['Team 2'][i]] = 1\n",
    "home_largest = nlargest(3, home_play, key=home_play.get)\n",
    "\n",
    "print(f\"The top 3 countries who played most in their home ground are {home_largest[0]} with {home_play[home_largest[0]]} games, {home_largest[1]} with {home_play[home_largest[1]]} games and {home_largest[2]} with {home_play[home_largest[2]]} games\")"
   ]
  },
  {
   "cell_type": "markdown",
   "id": "developmental-canon",
   "metadata": {},
   "source": [
    "### Most toured team"
   ]
  },
  {
   "cell_type": "code",
   "execution_count": 7,
   "id": "expected-logging",
   "metadata": {},
   "outputs": [
    {
     "name": "stdout",
     "output_type": "stream",
     "text": [
      "The top 3 teams toured are Afghanistan with 20 games, Pakistan with 18 games and West Indies with 18 games.\n"
     ]
    }
   ],
   "source": [
    "tour_team = {}\n",
    "for i in range(len(data)):\n",
    "    if data['Team 1'][i] != data['Country'][i]:\n",
    "        if data['Team 1'][i] in tour_team:\n",
    "            tour_team[data['Team 1'][i]] += 1\n",
    "        else:\n",
    "            tour_team[data['Team 1'][i]] = 1\n",
    "    if data['Team 2'][i] != data['Country'][i]:\n",
    "        if data['Team 2'][i] in tour_team:\n",
    "            tour_team[data['Team 2'][i]] += 1\n",
    "        else:\n",
    "            tour_team[data['Team 2'][i]] = 1\n",
    "\n",
    "tour_sort = sorted(tour_team, key=tour_team.get, reverse=True)\n",
    "tour_largest = nlargest(3, tour_team, key=tour_team.get)\n",
    "print(f\"The top 3 teams toured are {tour_largest[0]} with {tour_team[tour_largest[0]]} games, {tour_largest[1]} with {tour_team[tour_largest[1]]} games and {tour_largest[2]} with {tour_team[tour_largest[2]]} games.\")"
   ]
  },
  {
   "cell_type": "markdown",
   "id": "casual-peter",
   "metadata": {},
   "source": [
    "### Performance of a single country. Here its Sri Lanka"
   ]
  },
  {
   "cell_type": "code",
   "execution_count": 8,
   "id": "floating-elevation",
   "metadata": {},
   "outputs": [
    {
     "name": "stdout",
     "output_type": "stream",
     "text": [
      "Performance of Sri Lanka. They played as total of 17 games in which they won 6 games. In 17 games, 5 are chase and rest 12 is defent. In 6 wins 2 of them are by chase and rest 4 are by defent. Also 3 home wins and 3 away wins.\n"
     ]
    }
   ],
   "source": [
    "team_history = {'team':'Sri Lanka','totalGame':0,'chase':0,'defent':0,\n",
    "                'win':0,'chaseWin':0,'defentWin':0,'homeWin':0,'awayWin':0}\n",
    "team = team_history['team']\n",
    "team_history['totalGame'] = team_play[team]\n",
    "for i in range(len(data)):\n",
    "    if data['Winner'][i] == team:\n",
    "        team_history['win'] += 1\n",
    "        \n",
    "    if (data['Team 1'][i] == team):\n",
    "        team_history['defent'] += 1\n",
    "        \n",
    "    if (data['Team 2'][i] == team):\n",
    "        team_history['chase'] += 1\n",
    "        \n",
    "    if (data['Team 2'][i] == team) and (data['Winner'][i] == team):\n",
    "        team_history['chaseWin'] += 1\n",
    "        \n",
    "    if (data['Team 1'][i] == team) and (data['Winner'][i] == team):\n",
    "        team_history['defentWin'] += 1\n",
    "        \n",
    "    if (data['Country'][i] == team) and (data['Winner'][i] == team):\n",
    "        team_history['homeWin'] += 1\n",
    "        \n",
    "    if (data['Country'][i] != team) and (data['Winner'][i] == team):\n",
    "        team_history['awayWin'] += 1\n",
    "        \n",
    "print(f\"Performance of {team_history['team']}. They played as total of {team_history['totalGame']} games in which they won {team_history['win']} games. In {team_history['totalGame']} games, {team_history['chase']} are chase and rest {team_history['defent']} is defent. In {team_history['win']} wins {team_history['chaseWin']} of them are by chase and rest {team_history['defentWin']} are by defent. Also {team_history['homeWin']} home wins and {team_history['awayWin']} away wins.\")"
   ]
  },
  {
   "cell_type": "markdown",
   "id": "certain-cutting",
   "metadata": {},
   "source": [
    "### Top 3 wins by run"
   ]
  },
  {
   "cell_type": "code",
   "execution_count": 9,
   "id": "lonely-heather",
   "metadata": {},
   "outputs": [
    {
     "name": "stdout",
     "output_type": "stream",
     "text": [
      "The top 3 wins are: \n",
      "Pakistan wins Zimbabwe by 244 runs \n",
      "England wins Australia by 242 runs \n",
      "Ireland wins U.A.E. by 226 runs\n"
     ]
    }
   ],
   "source": [
    "by_run={}\n",
    "for i in range(len(data)):\n",
    "    if data['Win by runs'][i] == '':\n",
    "        pass\n",
    "    else:\n",
    "        winner = data['Winner'][i]\n",
    "        if data['Team 1'][i] == winner:\n",
    "            looser = data['Team 2'][i]\n",
    "        else:\n",
    "            looser = data['Team 1'][i]\n",
    "        by_run[data['Win by runs'][i]] = {'win':winner,'loss':looser}\n",
    "k = []\n",
    "for i in by_run:\n",
    "    k.append(i)\n",
    "l = sorted(k,reverse=True)[:3]\n",
    "\n",
    "print(f\"The top 3 wins are: \\n{by_run[l[0]]['win']} wins {by_run[l[0]]['loss']} by {l[0]} runs \\n{by_run[l[1]]['win']} wins {by_run[l[1]]['loss']} by {l[1]} runs \\n{by_run[l[2]]['win']} wins {by_run[l[2]]['loss']} by {l[2]} runs\")"
   ]
  },
  {
   "cell_type": "markdown",
   "id": "successful-touch",
   "metadata": {},
   "source": [
    "### Month with most ODI"
   ]
  },
  {
   "cell_type": "code",
   "execution_count": 10,
   "id": "polyphonic-daughter",
   "metadata": {},
   "outputs": [
    {
     "name": "stdout",
     "output_type": "stream",
     "text": [
      "Month with most ODI played is Mar with 26 games\n"
     ]
    }
   ],
   "source": [
    "match_per_month = {}\n",
    "for i in range(len(data)):\n",
    "    if data['Month'][i] in match_per_month:\n",
    "        match_per_month[data['Month'][i]] += 1\n",
    "    else:\n",
    "        match_per_month[data['Month'][i]] = 1\n",
    "        \n",
    "month_sort = sorted(match_per_month, key=match_per_month.get, reverse=True)\n",
    "print(f\"Month with most ODI played is {month_sort[0]} with {match_per_month[month_sort[0]]} games\")"
   ]
  },
  {
   "cell_type": "markdown",
   "id": "crucial-suicide",
   "metadata": {},
   "source": [
    "### Most played ground"
   ]
  },
  {
   "cell_type": "code",
   "execution_count": 11,
   "id": "judicial-episode",
   "metadata": {},
   "outputs": [
    {
     "name": "stdout",
     "output_type": "stream",
     "text": [
      "The most played ground is Harare with 16 games\n"
     ]
    }
   ],
   "source": [
    "on_ground = {}\n",
    "for i in range(len(data)):\n",
    "    if data['Ground'][i] in on_ground:\n",
    "        on_ground[data['Ground'][i]] += 1\n",
    "    else:\n",
    "        on_ground[data['Ground'][i]] = 1\n",
    "\n",
    "ground_sort = sorted(on_ground, key=on_ground.get, reverse=True)\n",
    "print('The most played ground is '+ground_sort[0]+' with '+str(on_ground[ground_sort[0]])+' games')"
   ]
  },
  {
   "cell_type": "markdown",
   "id": "confident-impression",
   "metadata": {},
   "source": [
    "### India win by chase or defent"
   ]
  },
  {
   "cell_type": "code",
   "execution_count": 12,
   "id": "thousand-target",
   "metadata": {},
   "outputs": [
    {
     "name": "stdout",
     "output_type": "stream",
     "text": [
      "India mostly win by chase\n"
     ]
    }
   ],
   "source": [
    "team_history = {'team':'India','totalGame':0,'chase':0,'defent':0,\n",
    "                'win':0,'chaseWin':0,'defentWin':0,'homeWin':0,'awayWin':0}\n",
    "team = team_history['team']\n",
    "team_history['totalGame'] = team_play[team]\n",
    "for i in range(len(data)):\n",
    "    if data['Winner'][i] == team:\n",
    "        team_history['win'] += 1\n",
    "        \n",
    "    if (data['Team 1'][i] == team):\n",
    "        team_history['defent'] += 1\n",
    "        \n",
    "    if (data['Team 2'][i] == team):\n",
    "        team_history['chase'] += 1\n",
    "        \n",
    "    if (data['Team 2'][i] == team) and (data['Winner'][i] == team):\n",
    "        team_history['chaseWin'] += 1\n",
    "        \n",
    "    if (data['Team 1'][i] == team) and (data['Winner'][i] == team):\n",
    "        team_history['defentWin'] += 1\n",
    "        \n",
    "    if (data['Country'][i] == team) and (data['Winner'][i] == team):\n",
    "        team_history['homeWin'] += 1\n",
    "        \n",
    "    if (data['Country'][i] != team) and (data['Winner'][i] == team):\n",
    "        team_history['awayWin'] += 1\n",
    "\n",
    "if team_history['chaseWin'] < team_history['defentWin']:\n",
    "    print(f\"{team} mostly win by playing first\")\n",
    "else:\n",
    "    print(f\"{team} mostly win by chase\")"
   ]
  },
  {
   "cell_type": "markdown",
   "id": "public-flower",
   "metadata": {},
   "source": [
    "### 3 Teams with most wins and valuated by months "
   ]
  },
  {
   "cell_type": "code",
   "execution_count": 13,
   "id": "criminal-faculty",
   "metadata": {},
   "outputs": [
    {
     "name": "stdout",
     "output_type": "stream",
     "text": [
      "Top three countries who win most in 2018 are \n",
      "England with 17 wins which comes from follows months \n",
      "Jan : 4 (23.53%)\n",
      "Feb : 1 (5.88%)\n",
      "Mar : 2 (11.76%)\n",
      "Jun : 5 (29.41%)\n",
      "Jul : 2 (11.76%)\n",
      "Aug : 0 (0.0%)\n",
      "Sep : 0 (0.0%)\n",
      "Oct : 3 (17.65%)\n",
      "Nov : 0 (0.0%)\n",
      "Dec : 0 (0.0%)\n",
      " \n",
      "India with 14 wins which comes from follows months \n",
      "Jan : 0 (0.0%)\n",
      "Feb : 5 (35.71%)\n",
      "Mar : 0 (0.0%)\n",
      "Jun : 0 (0.0%)\n",
      "Jul : 1 (7.14%)\n",
      "Aug : 0 (0.0%)\n",
      "Sep : 5 (35.71%)\n",
      "Oct : 2 (14.29%)\n",
      "Nov : 1 (7.14%)\n",
      "Dec : 0 (0.0%)\n",
      " \n",
      "Bangladesh with 13 wins which comes from follows months \n",
      "Jan : 3 (23.08%)\n",
      "Feb : 0 (0.0%)\n",
      "Mar : 0 (0.0%)\n",
      "Jun : 0 (0.0%)\n",
      "Jul : 2 (15.38%)\n",
      "Aug : 0 (0.0%)\n",
      "Sep : 3 (23.08%)\n",
      "Oct : 3 (23.08%)\n",
      "Nov : 0 (0.0%)\n",
      "Dec : 2 (15.38%)\n",
      " \n"
     ]
    }
   ],
   "source": [
    "country_month = {}\n",
    "month_per = {}\n",
    "for i in range(len(data)):\n",
    "    if data['Winner'][i] in country_month:\n",
    "        country_month[data['Winner'][i]]['Win'] += 1\n",
    "        country_month[data['Winner'][i]][data['Month'][i]] += 1\n",
    "    else:\n",
    "        country_month[data['Winner'][i]] = {'Win':1,'Jan': 0, 'Feb': 0, 'Mar': 0, 'Jun': 0, 'Jul': 0, 'Aug': 0, 'Sep': 0,\n",
    "                                            'Oct': 0, 'Nov': 0, 'Dec': 0}\n",
    "        country_month[data['Winner'][i]][data['Month'][i]] = 1\n",
    "\n",
    "for i in three_wins:\n",
    "    month_per[i] = {}\n",
    "    for j in country_month[i]:\n",
    "        month_per[i][j] = round(((country_month[i][j]/country_month[i]['Win'])*100),2)\n",
    "        \n",
    "print(f\"Top three countries who win most in 2018 are \")\n",
    "for i in month_per:\n",
    "    print(f\"{i} with {country_month[i]['Win']} wins which comes from follows months \")\n",
    "    for j in month_per[i]:\n",
    "        if j != 'Win':\n",
    "            print(f\"{j} : {country_month[i][j]} ({month_per[i][j]}%)\")\n",
    "    print(\" \")"
   ]
  },
  {
   "cell_type": "markdown",
   "id": "sophisticated-impact",
   "metadata": {},
   "source": [
    "### 3 countries with highest failure"
   ]
  },
  {
   "cell_type": "code",
   "execution_count": 14,
   "id": "conceptual-promise",
   "metadata": {},
   "outputs": [
    {
     "name": "stdout",
     "output_type": "stream",
     "text": [
      "The most lost teams are Zimbabwe with 21 losses,Australia with 21 losses and Sri Lanka with 21 losses. In which\n",
      "Zimbabwe lost 12 by chase and 9 by defenting\n",
      "Australia lost 6 by chase and 5 by defenting\n",
      "Sri Lanka lost 4 by chase and 7 by defenting\n"
     ]
    }
   ],
   "source": [
    "lost_country = {}\n",
    "lost_array = {}\n",
    "\n",
    "for i in team_list:\n",
    "    lost_country[i] = {'lost':0,'chase':0,'defent':0}\n",
    "    lost_array[i] = 0\n",
    "    \n",
    "for i in range(len(data)):\n",
    "    if data['Winner'][i] == data['Team 1'][i]:\n",
    "        lost_country[data['Team 2'][i]]['lost'] += 1\n",
    "        lost_array[data['Team 2'][i]] += 1\n",
    "        if data['Win by runs'][i]:\n",
    "            lost_country[data['Team 2'][i]]['defent'] += 1\n",
    "        else: \n",
    "            lost_country[data['Team 2'][i]]['chase'] += 1\n",
    "    else:\n",
    "        lost_country[data['Team 1'][i]]['lost'] += 1\n",
    "        lost_array[data['Team 1'][i]] += 1\n",
    "        if data['Win by runs'][i]:\n",
    "            lost_country[data['Team 1'][i]]['defent'] += 1\n",
    "        else: \n",
    "            lost_country[data['Team 1'][i]]['chase'] += 1\n",
    "\n",
    "last_3 = nlargest(3, lost_array, key=lost_array.get)\n",
    "\n",
    "print(f\"The most lost teams are {last_3[0]} with {lost_country[last_3[0]]['lost']} losses,{last_3[1]} with {lost_country[last_3[0]]['lost']} losses and {last_3[2]} with {lost_country[last_3[0]]['lost']} losses. In which\")\n",
    "print(f\"{last_3[0]} lost {lost_country[last_3[0]]['chase']} by chase and {lost_country[last_3[0]]['defent']} by defenting\")\n",
    "print(f\"{last_3[1]} lost {lost_country[last_3[1]]['chase']} by chase and {lost_country[last_3[1]]['defent']} by defenting\")\n",
    "print(f\"{last_3[2]} lost {lost_country[last_3[2]]['chase']} by chase and {lost_country[last_3[2]]['defent']} by defenting\")\n"
   ]
  }
 ],
 "metadata": {
  "kernelspec": {
   "display_name": "Python 3",
   "language": "python",
   "name": "python3"
  },
  "language_info": {
   "codemirror_mode": {
    "name": "ipython",
    "version": 3
   },
   "file_extension": ".py",
   "mimetype": "text/x-python",
   "name": "python",
   "nbconvert_exporter": "python",
   "pygments_lexer": "ipython3",
   "version": "3.8.5"
  }
 },
 "nbformat": 4,
 "nbformat_minor": 5
}