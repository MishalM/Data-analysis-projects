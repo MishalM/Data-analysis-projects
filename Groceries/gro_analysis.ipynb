{
 "cells": [
  {
   "cell_type": "code",
   "execution_count": 1,
   "id": "architectural-priority",
   "metadata": {},
   "outputs": [],
   "source": [
    "#import library\n",
    "import pandas as pd\n",
    "import numpy as np\n",
    "import datetime\n",
    "import matplotlib.pyplot as plt\n",
    "import collections\n",
    "from heapq import nlargest\n",
    "from datetime import date"
   ]
  },
  {
   "cell_type": "code",
   "execution_count": 2,
   "metadata": {},
   "outputs": [],
   "source": [
    "##Functions\n",
    "\n",
    "def monthName(arg):\n",
    "    switcher = {\n",
    "        1 : 'Jan', 2 : 'Feb', 3 : 'Mar', 4 : 'Apr',5 : 'May', 6 : 'Jun',\n",
    "        7 : 'Jul', 8 : 'Aug',9 : 'Sep', 10 : 'Oct', 11 : 'Nov', 12 : 'Dec'\n",
    "    }\n",
    "    return switcher.get(arg, \"None\")\n",
    "\n",
    "def monthFull(arg):\n",
    "    switcher = {\n",
    "        'Jan' : 'January', 'Feb': 'February', 'Mar': 'March', 'Apr': 'April',\n",
    "        'May': 'May', 'Jun': 'June', 'Jul': 'July', 'Aug': 'August',\n",
    "        'Sep': 'September', 'Oct': 'October', 'Nov': 'November', 'Dec': 'December'\n",
    "    }\n",
    "    return switcher.get(arg, \"None\")\n",
    "\n",
    "def repCustomer(list1,list2):\n",
    "    list3 = [value for value in list1 if value in list2]\n",
    "    return list3\n",
    "    \n",
    "def newCustomer(list1,list2):\n",
    "    list3 = [value for value in list1 if value not in list2]\n",
    "    return list3\n",
    "\n",
    "def qtrYear(data, year):\n",
    "    qt_out = {'q1': [], 'q2':[], 'q3':[], 'q4':[]}\n",
    "    for i in range(len(data)):\n",
    "        if data['Year'][i] == year:\n",
    "            if data['Month'][i] <= 3:\n",
    "                qt_out['q1'].append(data['member_id'][i])\n",
    "            elif 3 < data['Month'][i] <= 6:\n",
    "                qt_out['q2'].append(data['member_id'][i])\n",
    "            elif 7 < data['Month'][i] <= 9:\n",
    "                qt_out['q3'].append(data['member_id'][i])\n",
    "            elif 10 < data['Month'][i] <= 12:\n",
    "                qt_out['q4'].append(data['member_id'][i])    \n",
    "    \n",
    "    return qt_out"
   ]
  },
  {
   "cell_type": "code",
   "execution_count": 3,
   "id": "synthetic-cabin",
   "metadata": {},
   "outputs": [
    {
     "output_type": "execute_result",
     "data": {
      "text/plain": [
       "   member_id        Date   itemDescription\n",
       "0       1808  21-07-2015    tropical fruit\n",
       "1       2552  05-01-2015        whole milk\n",
       "2       2300  19-09-2015         pip fruit\n",
       "3       1187  12-12-2015  other vegetables\n",
       "4       3037  01-02-2015        whole milk"
      ],
      "text/html": "<div>\n<style scoped>\n    .dataframe tbody tr th:only-of-type {\n        vertical-align: middle;\n    }\n\n    .dataframe tbody tr th {\n        vertical-align: top;\n    }\n\n    .dataframe thead th {\n        text-align: right;\n    }\n</style>\n<table border=\"1\" class=\"dataframe\">\n  <thead>\n    <tr style=\"text-align: right;\">\n      <th></th>\n      <th>member_id</th>\n      <th>Date</th>\n      <th>itemDescription</th>\n    </tr>\n  </thead>\n  <tbody>\n    <tr>\n      <th>0</th>\n      <td>1808</td>\n      <td>21-07-2015</td>\n      <td>tropical fruit</td>\n    </tr>\n    <tr>\n      <th>1</th>\n      <td>2552</td>\n      <td>05-01-2015</td>\n      <td>whole milk</td>\n    </tr>\n    <tr>\n      <th>2</th>\n      <td>2300</td>\n      <td>19-09-2015</td>\n      <td>pip fruit</td>\n    </tr>\n    <tr>\n      <th>3</th>\n      <td>1187</td>\n      <td>12-12-2015</td>\n      <td>other vegetables</td>\n    </tr>\n    <tr>\n      <th>4</th>\n      <td>3037</td>\n      <td>01-02-2015</td>\n      <td>whole milk</td>\n    </tr>\n  </tbody>\n</table>\n</div>"
     },
     "metadata": {},
     "execution_count": 3
    }
   ],
   "source": [
    "#import data\n",
    "data = pd.read_csv('Groceries_dataset.csv')\n",
    "n_data = len(data)\n",
    "data.head()"
   ]
  },
  {
   "cell_type": "code",
   "execution_count": 4,
   "id": "prescription-canyon",
   "metadata": {
    "tags": []
   },
   "outputs": [
    {
     "output_type": "stream",
     "name": "stdout",
     "text": [
      "       member_id        Date        itemDescription Day Month  Year    Weekday\n0           1808  21-07-2015         tropical fruit  21     7  2015    Tuesday\n1           2552  05-01-2015             whole milk   5     1  2015     Monday\n2           2300  19-09-2015              pip fruit  19     9  2015   Saturday\n3           1187  12-12-2015       other vegetables  12    12  2015   Saturday\n4           3037  01-02-2015             whole milk   1     2  2015     Sunday\n...          ...         ...                    ...  ..   ...   ...        ...\n38760       4471  08-10-2014          sliced cheese   8    10  2014  Wednesday\n38761       2022  23-02-2014                  candy  23     2  2014     Sunday\n38762       1097  16-04-2014               cake bar  16     4  2014  Wednesday\n38763       1510  03-12-2014  fruit/vegetable juice   3    12  2014  Wednesday\n38764       1521  26-12-2014               cat food  26    12  2014     Friday\n\n[38765 rows x 7 columns]\nCPU times: user 5min 8s, sys: 2.56 s, total: 5min 10s\nWall time: 5min 11s\n"
     ]
    }
   ],
   "source": [
    "#update data\n",
    "data['Day'] = \"\"\n",
    "data['Month'] = \"\"\n",
    "data['Year'] = \"\"\n",
    "data['Weekday'] = \"\"\n",
    "for i in range(n_data):\n",
    "    to_date = data['Date'][i]\n",
    "    dd = to_date.split('-')\n",
    "    data['Day'][i] = int(dd[0])\n",
    "    data['Month'][i] = int(dd[1])\n",
    "    data['Year'][i] = int(dd[2])\n",
    "    data['Weekday'][i] = (datetime.date(int(dd[2]), int(dd[1]), int(dd[0]))).strftime(\"%A\")\n",
    "print(data)"
   ]
  },
  {
   "cell_type": "code",
   "execution_count": 5,
   "id": "false-moore",
   "metadata": {},
   "outputs": [
    {
     "output_type": "stream",
     "name": "stdout",
     "text": [
      "Total no of products is 167\n"
     ]
    }
   ],
   "source": [
    "#no of products\n",
    "product = data['itemDescription'].unique()\n",
    "no_pro = len(product)\n",
    "print(f\"Total no of products is {no_pro}\")"
   ]
  },
  {
   "cell_type": "code",
   "execution_count": 6,
   "id": "broke-safety",
   "metadata": {},
   "outputs": [
    {
     "output_type": "stream",
     "name": "stdout",
     "text": [
      "Total no of customers is 3898\n"
     ]
    }
   ],
   "source": [
    "#no of customers\n",
    "customers = data['member_id'].unique()\n",
    "no_customer = len(customers)\n",
    "print(f\"Total no of customers is {no_customer}\")"
   ]
  },
  {
   "cell_type": "code",
   "execution_count": 7,
   "metadata": {
    "tags": []
   },
   "outputs": [
    {
     "output_type": "stream",
     "name": "stdout",
     "text": [
      "Total sales in years 2014 and 2015 combines is 38765\nTotal sales in year 2014 is 18277\nTotal sales in year 2015 is 20488\n"
     ]
    }
   ],
   "source": [
    "#year data\n",
    "no_sales = n_data\n",
    "sales_2014 = sales_2015 = 0\n",
    "\n",
    "data_2014 = []\n",
    "data_2015 = []\n",
    "\n",
    "for i in range(n_data):\n",
    "    if data['Year'][i] == 2014:\n",
    "        data_2014.append(i)\n",
    "    else:\n",
    "        data_2015.append(i)\n",
    "\n",
    "sales_2014 = len(data_2014)\n",
    "sales_2015 = len(data_2015)\n",
    "\n",
    "print(f'Total sales in years 2014 and 2015 combines is {no_sales}')\n",
    "print(f'Total sales in year 2014 is {sales_2014}')\n",
    "print(f'Total sales in year 2015 is {sales_2015}')"
   ]
  },
  {
   "cell_type": "code",
   "execution_count": 8,
   "id": "annoying-hudson",
   "metadata": {
    "tags": []
   },
   "outputs": [
    {
     "output_type": "display_data",
     "data": {
      "text/plain": "<Figure size 432x288 with 1 Axes>",
      "image/svg+xml": "<?xml version=\"1.0\" encoding=\"utf-8\" standalone=\"no\"?>\n<!DOCTYPE svg PUBLIC \"-//W3C//DTD SVG 1.1//EN\"\n  \"http://www.w3.org/Graphics/SVG/1.1/DTD/svg11.dtd\">\n<!-- Created with matplotlib (https://matplotlib.org/) -->\n<svg height=\"277.314375pt\" version=\"1.1\" viewBox=\"0 0 388.965625 277.314375\" width=\"388.965625pt\" xmlns=\"http://www.w3.org/2000/svg\" xmlns:xlink=\"http://www.w3.org/1999/xlink\">\n <metadata>\n  <rdf:RDF xmlns:cc=\"http://creativecommons.org/ns#\" xmlns:dc=\"http://purl.org/dc/elements/1.1/\" xmlns:rdf=\"http://www.w3.org/1999/02/22-rdf-syntax-ns#\">\n   <cc:Work>\n    <dc:type rdf:resource=\"http://purl.org/dc/dcmitype/StillImage\"/>\n    <dc:date>2021-03-01T11:40:24.059208</dc:date>\n    <dc:format>image/svg+xml</dc:format>\n    <dc:creator>\n     <cc:Agent>\n      <dc:title>Matplotlib v3.3.4, https://matplotlib.org/</dc:title>\n     </cc:Agent>\n    </dc:creator>\n   </cc:Work>\n  </rdf:RDF>\n </metadata>\n <defs>\n  <style type=\"text/css\">*{stroke-linecap:butt;stroke-linejoin:round;}</style>\n </defs>\n <g id=\"figure_1\">\n  <g id=\"patch_1\">\n   <path d=\"M 0 277.314375 \nL 388.965625 277.314375 \nL 388.965625 0 \nL 0 0 \nz\n\" style=\"fill:none;\"/>\n  </g>\n  <g id=\"axes_1\">\n   <g id=\"patch_2\">\n    <path d=\"M 46.965625 239.758125 \nL 381.765625 239.758125 \nL 381.765625 22.318125 \nL 46.965625 22.318125 \nz\n\" style=\"fill:#ffffff;\"/>\n   </g>\n   <g id=\"patch_3\">\n    <path clip-path=\"url(#p2713632e0a)\" d=\"M 62.183807 239.758125 \nL 69.180672 239.758125 \nL 69.180672 101.32886 \nL 62.183807 101.32886 \nz\n\" style=\"fill:#1f77b4;\"/>\n   </g>\n   <g id=\"patch_4\">\n    <path clip-path=\"url(#p2713632e0a)\" d=\"M 70.929888 239.758125 \nL 77.926754 239.758125 \nL 77.926754 209.616269 \nL 70.929888 209.616269 \nz\n\" style=\"fill:#1f77b4;\"/>\n   </g>\n   <g id=\"patch_5\">\n    <path clip-path=\"url(#p2713632e0a)\" d=\"M 79.67597 239.758125 \nL 86.672835 239.758125 \nL 86.672835 56.674259 \nL 79.67597 56.674259 \nz\n\" style=\"fill:#1f77b4;\"/>\n   </g>\n   <g id=\"patch_6\">\n    <path clip-path=\"url(#p2713632e0a)\" d=\"M 88.422051 239.758125 \nL 95.418917 239.758125 \nL 95.418917 140.401637 \nL 88.422051 140.401637 \nz\n\" style=\"fill:#1f77b4;\"/>\n   </g>\n   <g id=\"patch_7\">\n    <path clip-path=\"url(#p2713632e0a)\" d=\"M 97.168133 239.758125 \nL 104.164998 239.758125 \nL 104.164998 32.672411 \nL 97.168133 32.672411 \nz\n\" style=\"fill:#1f77b4;\"/>\n   </g>\n   <g id=\"patch_8\">\n    <path clip-path=\"url(#p2713632e0a)\" d=\"M 105.914214 239.758125 \nL 112.91108 239.758125 \nL 112.91108 107.468868 \nL 105.914214 107.468868 \nz\n\" style=\"fill:#1f77b4;\"/>\n   </g>\n   <g id=\"patch_9\">\n    <path clip-path=\"url(#p2713632e0a)\" d=\"M 114.660296 239.758125 \nL 121.657161 239.758125 \nL 121.657161 49.417886 \nL 114.660296 49.417886 \nz\n\" style=\"fill:#1f77b4;\"/>\n   </g>\n   <g id=\"patch_10\">\n    <path clip-path=\"url(#p2713632e0a)\" d=\"M 123.406377 239.758125 \nL 130.403243 239.758125 \nL 130.403243 99.654313 \nL 123.406377 99.654313 \nz\n\" style=\"fill:#1f77b4;\"/>\n   </g>\n   <g id=\"patch_11\">\n    <path clip-path=\"url(#p2713632e0a)\" d=\"M 132.152459 239.758125 \nL 139.149324 239.758125 \nL 139.149324 76.76883 \nL 132.152459 76.76883 \nz\n\" style=\"fill:#1f77b4;\"/>\n   </g>\n   <g id=\"patch_12\">\n    <path clip-path=\"url(#p2713632e0a)\" d=\"M 140.89854 239.758125 \nL 147.895406 239.758125 \nL 147.895406 102.445226 \nL 140.89854 102.445226 \nz\n\" style=\"fill:#1f77b4;\"/>\n   </g>\n   <g id=\"patch_13\">\n    <path clip-path=\"url(#p2713632e0a)\" d=\"M 149.644622 239.758125 \nL 156.641487 239.758125 \nL 156.641487 99.09613 \nL 149.644622 99.09613 \nz\n\" style=\"fill:#1f77b4;\"/>\n   </g>\n   <g id=\"patch_14\">\n    <path clip-path=\"url(#p2713632e0a)\" d=\"M 158.390703 239.758125 \nL 165.387569 239.758125 \nL 165.387569 132.587081 \nL 158.390703 132.587081 \nz\n\" style=\"fill:#1f77b4;\"/>\n   </g>\n   <g id=\"patch_15\">\n    <path clip-path=\"url(#p2713632e0a)\" d=\"M 167.136785 239.758125 \nL 174.13365 239.758125 \nL 174.13365 139.843454 \nL 167.136785 139.843454 \nz\n\" style=\"fill:#1f77b4;\"/>\n   </g>\n   <g id=\"patch_16\">\n    <path clip-path=\"url(#p2713632e0a)\" d=\"M 175.882866 239.758125 \nL 182.879732 239.758125 \nL 182.879732 159.379842 \nL 175.882866 159.379842 \nz\n\" style=\"fill:#1f77b4;\"/>\n   </g>\n   <g id=\"patch_17\">\n    <path clip-path=\"url(#p2713632e0a)\" d=\"M 184.628948 239.758125 \nL 191.625813 239.758125 \nL 191.625813 163.845303 \nL 184.628948 163.845303 \nz\n\" style=\"fill:#1f77b4;\"/>\n   </g>\n   <g id=\"patch_18\">\n    <path clip-path=\"url(#p2713632e0a)\" d=\"M 193.375029 239.758125 \nL 200.371895 239.758125 \nL 200.371895 178.916231 \nL 193.375029 178.916231 \nz\n\" style=\"fill:#1f77b4;\"/>\n   </g>\n   <g id=\"patch_19\">\n    <path clip-path=\"url(#p2713632e0a)\" d=\"M 202.121111 239.758125 \nL 209.117976 239.758125 \nL 209.117976 201.243531 \nL 202.121111 201.243531 \nz\n\" style=\"fill:#1f77b4;\"/>\n   </g>\n   <g id=\"patch_20\">\n    <path clip-path=\"url(#p2713632e0a)\" d=\"M 210.867192 239.758125 \nL 217.864058 239.758125 \nL 217.864058 207.383539 \nL 210.867192 207.383539 \nz\n\" style=\"fill:#1f77b4;\"/>\n   </g>\n   <g id=\"patch_21\">\n    <path clip-path=\"url(#p2713632e0a)\" d=\"M 219.613274 239.758125 \nL 226.610139 239.758125 \nL 226.610139 210.732634 \nL 219.613274 210.732634 \nz\n\" style=\"fill:#1f77b4;\"/>\n   </g>\n   <g id=\"patch_22\">\n    <path clip-path=\"url(#p2713632e0a)\" d=\"M 228.359355 239.758125 \nL 235.356221 239.758125 \nL 235.356221 212.407182 \nL 228.359355 212.407182 \nz\n\" style=\"fill:#1f77b4;\"/>\n   </g>\n   <g id=\"patch_23\">\n    <path clip-path=\"url(#p2713632e0a)\" d=\"M 237.105437 239.758125 \nL 244.102302 239.758125 \nL 244.102302 226.919927 \nL 237.105437 226.919927 \nz\n\" style=\"fill:#1f77b4;\"/>\n   </g>\n   <g id=\"patch_24\">\n    <path clip-path=\"url(#p2713632e0a)\" d=\"M 245.851518 239.758125 \nL 252.848384 239.758125 \nL 252.848384 223.570832 \nL 245.851518 223.570832 \nz\n\" style=\"fill:#1f77b4;\"/>\n   </g>\n   <g id=\"patch_25\">\n    <path clip-path=\"url(#p2713632e0a)\" d=\"M 254.5976 239.758125 \nL 261.594465 239.758125 \nL 261.594465 231.94357 \nL 254.5976 231.94357 \nz\n\" style=\"fill:#1f77b4;\"/>\n   </g>\n   <g id=\"patch_26\">\n    <path clip-path=\"url(#p2713632e0a)\" d=\"M 263.343681 239.758125 \nL 270.340547 239.758125 \nL 270.340547 233.618117 \nL 263.343681 233.618117 \nz\n\" style=\"fill:#1f77b4;\"/>\n   </g>\n   <g id=\"patch_27\">\n    <path clip-path=\"url(#p2713632e0a)\" d=\"M 272.089763 239.758125 \nL 279.086628 239.758125 \nL 279.086628 234.734482 \nL 272.089763 234.734482 \nz\n\" style=\"fill:#1f77b4;\"/>\n   </g>\n   <g id=\"patch_28\">\n    <path clip-path=\"url(#p2713632e0a)\" d=\"M 280.835844 239.758125 \nL 287.83271 239.758125 \nL 287.83271 235.292665 \nL 280.835844 235.292665 \nz\n\" style=\"fill:#1f77b4;\"/>\n   </g>\n   <g id=\"patch_29\">\n    <path clip-path=\"url(#p2713632e0a)\" d=\"M 289.581926 239.758125 \nL 296.578791 239.758125 \nL 296.578791 236.967212 \nL 289.581926 236.967212 \nz\n\" style=\"fill:#1f77b4;\"/>\n   </g>\n   <g id=\"patch_30\">\n    <path clip-path=\"url(#p2713632e0a)\" d=\"M 298.328007 239.758125 \nL 305.324873 239.758125 \nL 305.324873 237.525395 \nL 298.328007 237.525395 \nz\n\" style=\"fill:#1f77b4;\"/>\n   </g>\n   <g id=\"patch_31\">\n    <path clip-path=\"url(#p2713632e0a)\" d=\"M 307.074089 239.758125 \nL 314.070954 239.758125 \nL 314.070954 239.199942 \nL 307.074089 239.199942 \nz\n\" style=\"fill:#1f77b4;\"/>\n   </g>\n   <g id=\"patch_32\">\n    <path clip-path=\"url(#p2713632e0a)\" d=\"M 315.82017 239.758125 \nL 322.817036 239.758125 \nL 322.817036 237.525395 \nL 315.82017 237.525395 \nz\n\" style=\"fill:#1f77b4;\"/>\n   </g>\n   <g id=\"patch_33\">\n    <path clip-path=\"url(#p2713632e0a)\" d=\"M 333.312333 239.758125 \nL 340.309199 239.758125 \nL 340.309199 238.083577 \nL 333.312333 238.083577 \nz\n\" style=\"fill:#1f77b4;\"/>\n   </g>\n   <g id=\"patch_34\">\n    <path clip-path=\"url(#p2713632e0a)\" d=\"M 359.550578 239.758125 \nL 366.547443 239.758125 \nL 366.547443 239.199942 \nL 359.550578 239.199942 \nz\n\" style=\"fill:#1f77b4;\"/>\n   </g>\n   <g id=\"matplotlib.axis_1\">\n    <g id=\"xtick_1\">\n     <g id=\"line2d_1\">\n      <defs>\n       <path d=\"M 0 0 \nL 0 3.5 \n\" id=\"m7ffa93455b\" style=\"stroke:#000000;stroke-width:0.8;\"/>\n      </defs>\n      <g>\n       <use style=\"stroke:#000000;stroke-width:0.8;\" x=\"48.190076\" xlink:href=\"#m7ffa93455b\" y=\"239.758125\"/>\n      </g>\n     </g>\n     <g id=\"text_1\">\n      <!-- 0 -->\n      <g transform=\"translate(45.008826 254.356562)scale(0.1 -0.1)\">\n       <defs>\n        <path d=\"M 31.78125 66.40625 \nQ 24.171875 66.40625 20.328125 58.90625 \nQ 16.5 51.421875 16.5 36.375 \nQ 16.5 21.390625 20.328125 13.890625 \nQ 24.171875 6.390625 31.78125 6.390625 \nQ 39.453125 6.390625 43.28125 13.890625 \nQ 47.125 21.390625 47.125 36.375 \nQ 47.125 51.421875 43.28125 58.90625 \nQ 39.453125 66.40625 31.78125 66.40625 \nz\nM 31.78125 74.21875 \nQ 44.046875 74.21875 50.515625 64.515625 \nQ 56.984375 54.828125 56.984375 36.375 \nQ 56.984375 17.96875 50.515625 8.265625 \nQ 44.046875 -1.421875 31.78125 -1.421875 \nQ 19.53125 -1.421875 13.0625 8.265625 \nQ 6.59375 17.96875 6.59375 36.375 \nQ 6.59375 54.828125 13.0625 64.515625 \nQ 19.53125 74.21875 31.78125 74.21875 \nz\n\" id=\"DejaVuSans-48\"/>\n       </defs>\n       <use xlink:href=\"#DejaVuSans-48\"/>\n      </g>\n     </g>\n    </g>\n    <g id=\"xtick_2\">\n     <g id=\"line2d_2\">\n      <g>\n       <use style=\"stroke:#000000;stroke-width:0.8;\" x=\"91.920484\" xlink:href=\"#m7ffa93455b\" y=\"239.758125\"/>\n      </g>\n     </g>\n     <g id=\"text_2\">\n      <!-- 5 -->\n      <g transform=\"translate(88.739234 254.356562)scale(0.1 -0.1)\">\n       <defs>\n        <path d=\"M 10.796875 72.90625 \nL 49.515625 72.90625 \nL 49.515625 64.59375 \nL 19.828125 64.59375 \nL 19.828125 46.734375 \nQ 21.96875 47.46875 24.109375 47.828125 \nQ 26.265625 48.1875 28.421875 48.1875 \nQ 40.625 48.1875 47.75 41.5 \nQ 54.890625 34.8125 54.890625 23.390625 \nQ 54.890625 11.625 47.5625 5.09375 \nQ 40.234375 -1.421875 26.90625 -1.421875 \nQ 22.3125 -1.421875 17.546875 -0.640625 \nQ 12.796875 0.140625 7.71875 1.703125 \nL 7.71875 11.625 \nQ 12.109375 9.234375 16.796875 8.0625 \nQ 21.484375 6.890625 26.703125 6.890625 \nQ 35.15625 6.890625 40.078125 11.328125 \nQ 45.015625 15.765625 45.015625 23.390625 \nQ 45.015625 31 40.078125 35.4375 \nQ 35.15625 39.890625 26.703125 39.890625 \nQ 22.75 39.890625 18.8125 39.015625 \nQ 14.890625 38.140625 10.796875 36.28125 \nz\n\" id=\"DejaVuSans-53\"/>\n       </defs>\n       <use xlink:href=\"#DejaVuSans-53\"/>\n      </g>\n     </g>\n    </g>\n    <g id=\"xtick_3\">\n     <g id=\"line2d_3\">\n      <g>\n       <use style=\"stroke:#000000;stroke-width:0.8;\" x=\"135.650891\" xlink:href=\"#m7ffa93455b\" y=\"239.758125\"/>\n      </g>\n     </g>\n     <g id=\"text_3\">\n      <!-- 10 -->\n      <g transform=\"translate(129.288391 254.356562)scale(0.1 -0.1)\">\n       <defs>\n        <path d=\"M 12.40625 8.296875 \nL 28.515625 8.296875 \nL 28.515625 63.921875 \nL 10.984375 60.40625 \nL 10.984375 69.390625 \nL 28.421875 72.90625 \nL 38.28125 72.90625 \nL 38.28125 8.296875 \nL 54.390625 8.296875 \nL 54.390625 0 \nL 12.40625 0 \nz\n\" id=\"DejaVuSans-49\"/>\n       </defs>\n       <use xlink:href=\"#DejaVuSans-49\"/>\n       <use x=\"63.623047\" xlink:href=\"#DejaVuSans-48\"/>\n      </g>\n     </g>\n    </g>\n    <g id=\"xtick_4\">\n     <g id=\"line2d_4\">\n      <g>\n       <use style=\"stroke:#000000;stroke-width:0.8;\" x=\"179.381299\" xlink:href=\"#m7ffa93455b\" y=\"239.758125\"/>\n      </g>\n     </g>\n     <g id=\"text_4\">\n      <!-- 15 -->\n      <g transform=\"translate(173.018799 254.356562)scale(0.1 -0.1)\">\n       <use xlink:href=\"#DejaVuSans-49\"/>\n       <use x=\"63.623047\" xlink:href=\"#DejaVuSans-53\"/>\n      </g>\n     </g>\n    </g>\n    <g id=\"xtick_5\">\n     <g id=\"line2d_5\">\n      <g>\n       <use style=\"stroke:#000000;stroke-width:0.8;\" x=\"223.111707\" xlink:href=\"#m7ffa93455b\" y=\"239.758125\"/>\n      </g>\n     </g>\n     <g id=\"text_5\">\n      <!-- 20 -->\n      <g transform=\"translate(216.749207 254.356562)scale(0.1 -0.1)\">\n       <defs>\n        <path d=\"M 19.1875 8.296875 \nL 53.609375 8.296875 \nL 53.609375 0 \nL 7.328125 0 \nL 7.328125 8.296875 \nQ 12.9375 14.109375 22.625 23.890625 \nQ 32.328125 33.6875 34.8125 36.53125 \nQ 39.546875 41.84375 41.421875 45.53125 \nQ 43.3125 49.21875 43.3125 52.78125 \nQ 43.3125 58.59375 39.234375 62.25 \nQ 35.15625 65.921875 28.609375 65.921875 \nQ 23.96875 65.921875 18.8125 64.3125 \nQ 13.671875 62.703125 7.8125 59.421875 \nL 7.8125 69.390625 \nQ 13.765625 71.78125 18.9375 73 \nQ 24.125 74.21875 28.421875 74.21875 \nQ 39.75 74.21875 46.484375 68.546875 \nQ 53.21875 62.890625 53.21875 53.421875 \nQ 53.21875 48.921875 51.53125 44.890625 \nQ 49.859375 40.875 45.40625 35.40625 \nQ 44.1875 33.984375 37.640625 27.21875 \nQ 31.109375 20.453125 19.1875 8.296875 \nz\n\" id=\"DejaVuSans-50\"/>\n       </defs>\n       <use xlink:href=\"#DejaVuSans-50\"/>\n       <use x=\"63.623047\" xlink:href=\"#DejaVuSans-48\"/>\n      </g>\n     </g>\n    </g>\n    <g id=\"xtick_6\">\n     <g id=\"line2d_6\">\n      <g>\n       <use style=\"stroke:#000000;stroke-width:0.8;\" x=\"266.842114\" xlink:href=\"#m7ffa93455b\" y=\"239.758125\"/>\n      </g>\n     </g>\n     <g id=\"text_6\">\n      <!-- 25 -->\n      <g transform=\"translate(260.479614 254.356562)scale(0.1 -0.1)\">\n       <use xlink:href=\"#DejaVuSans-50\"/>\n       <use x=\"63.623047\" xlink:href=\"#DejaVuSans-53\"/>\n      </g>\n     </g>\n    </g>\n    <g id=\"xtick_7\">\n     <g id=\"line2d_7\">\n      <g>\n       <use style=\"stroke:#000000;stroke-width:0.8;\" x=\"310.572522\" xlink:href=\"#m7ffa93455b\" y=\"239.758125\"/>\n      </g>\n     </g>\n     <g id=\"text_7\">\n      <!-- 30 -->\n      <g transform=\"translate(304.210022 254.356562)scale(0.1 -0.1)\">\n       <defs>\n        <path d=\"M 40.578125 39.3125 \nQ 47.65625 37.796875 51.625 33 \nQ 55.609375 28.21875 55.609375 21.1875 \nQ 55.609375 10.40625 48.1875 4.484375 \nQ 40.765625 -1.421875 27.09375 -1.421875 \nQ 22.515625 -1.421875 17.65625 -0.515625 \nQ 12.796875 0.390625 7.625 2.203125 \nL 7.625 11.71875 \nQ 11.71875 9.328125 16.59375 8.109375 \nQ 21.484375 6.890625 26.8125 6.890625 \nQ 36.078125 6.890625 40.9375 10.546875 \nQ 45.796875 14.203125 45.796875 21.1875 \nQ 45.796875 27.640625 41.28125 31.265625 \nQ 36.765625 34.90625 28.71875 34.90625 \nL 20.21875 34.90625 \nL 20.21875 43.015625 \nL 29.109375 43.015625 \nQ 36.375 43.015625 40.234375 45.921875 \nQ 44.09375 48.828125 44.09375 54.296875 \nQ 44.09375 59.90625 40.109375 62.90625 \nQ 36.140625 65.921875 28.71875 65.921875 \nQ 24.65625 65.921875 20.015625 65.03125 \nQ 15.375 64.15625 9.8125 62.3125 \nL 9.8125 71.09375 \nQ 15.4375 72.65625 20.34375 73.4375 \nQ 25.25 74.21875 29.59375 74.21875 \nQ 40.828125 74.21875 47.359375 69.109375 \nQ 53.90625 64.015625 53.90625 55.328125 \nQ 53.90625 49.265625 50.4375 45.09375 \nQ 46.96875 40.921875 40.578125 39.3125 \nz\n\" id=\"DejaVuSans-51\"/>\n       </defs>\n       <use xlink:href=\"#DejaVuSans-51\"/>\n       <use x=\"63.623047\" xlink:href=\"#DejaVuSans-48\"/>\n      </g>\n     </g>\n    </g>\n    <g id=\"xtick_8\">\n     <g id=\"line2d_8\">\n      <g>\n       <use style=\"stroke:#000000;stroke-width:0.8;\" x=\"354.302929\" xlink:href=\"#m7ffa93455b\" y=\"239.758125\"/>\n      </g>\n     </g>\n     <g id=\"text_8\">\n      <!-- 35 -->\n      <g transform=\"translate(347.940429 254.356562)scale(0.1 -0.1)\">\n       <use xlink:href=\"#DejaVuSans-51\"/>\n       <use x=\"63.623047\" xlink:href=\"#DejaVuSans-53\"/>\n      </g>\n     </g>\n    </g>\n    <g id=\"text_9\">\n     <!-- No of sales -->\n     <g transform=\"translate(186.828906 268.034687)scale(0.1 -0.1)\">\n      <defs>\n       <path d=\"M 9.8125 72.90625 \nL 23.09375 72.90625 \nL 55.421875 11.921875 \nL 55.421875 72.90625 \nL 64.984375 72.90625 \nL 64.984375 0 \nL 51.703125 0 \nL 19.390625 60.984375 \nL 19.390625 0 \nL 9.8125 0 \nz\n\" id=\"DejaVuSans-78\"/>\n       <path d=\"M 30.609375 48.390625 \nQ 23.390625 48.390625 19.1875 42.75 \nQ 14.984375 37.109375 14.984375 27.296875 \nQ 14.984375 17.484375 19.15625 11.84375 \nQ 23.34375 6.203125 30.609375 6.203125 \nQ 37.796875 6.203125 41.984375 11.859375 \nQ 46.1875 17.53125 46.1875 27.296875 \nQ 46.1875 37.015625 41.984375 42.703125 \nQ 37.796875 48.390625 30.609375 48.390625 \nz\nM 30.609375 56 \nQ 42.328125 56 49.015625 48.375 \nQ 55.71875 40.765625 55.71875 27.296875 \nQ 55.71875 13.875 49.015625 6.21875 \nQ 42.328125 -1.421875 30.609375 -1.421875 \nQ 18.84375 -1.421875 12.171875 6.21875 \nQ 5.515625 13.875 5.515625 27.296875 \nQ 5.515625 40.765625 12.171875 48.375 \nQ 18.84375 56 30.609375 56 \nz\n\" id=\"DejaVuSans-111\"/>\n       <path id=\"DejaVuSans-32\"/>\n       <path d=\"M 37.109375 75.984375 \nL 37.109375 68.5 \nL 28.515625 68.5 \nQ 23.6875 68.5 21.796875 66.546875 \nQ 19.921875 64.59375 19.921875 59.515625 \nL 19.921875 54.6875 \nL 34.71875 54.6875 \nL 34.71875 47.703125 \nL 19.921875 47.703125 \nL 19.921875 0 \nL 10.890625 0 \nL 10.890625 47.703125 \nL 2.296875 47.703125 \nL 2.296875 54.6875 \nL 10.890625 54.6875 \nL 10.890625 58.5 \nQ 10.890625 67.625 15.140625 71.796875 \nQ 19.390625 75.984375 28.609375 75.984375 \nz\n\" id=\"DejaVuSans-102\"/>\n       <path d=\"M 44.28125 53.078125 \nL 44.28125 44.578125 \nQ 40.484375 46.53125 36.375 47.5 \nQ 32.28125 48.484375 27.875 48.484375 \nQ 21.1875 48.484375 17.84375 46.4375 \nQ 14.5 44.390625 14.5 40.28125 \nQ 14.5 37.15625 16.890625 35.375 \nQ 19.28125 33.59375 26.515625 31.984375 \nL 29.59375 31.296875 \nQ 39.15625 29.25 43.1875 25.515625 \nQ 47.21875 21.78125 47.21875 15.09375 \nQ 47.21875 7.46875 41.1875 3.015625 \nQ 35.15625 -1.421875 24.609375 -1.421875 \nQ 20.21875 -1.421875 15.453125 -0.5625 \nQ 10.6875 0.296875 5.421875 2 \nL 5.421875 11.28125 \nQ 10.40625 8.6875 15.234375 7.390625 \nQ 20.0625 6.109375 24.8125 6.109375 \nQ 31.15625 6.109375 34.5625 8.28125 \nQ 37.984375 10.453125 37.984375 14.40625 \nQ 37.984375 18.0625 35.515625 20.015625 \nQ 33.0625 21.96875 24.703125 23.78125 \nL 21.578125 24.515625 \nQ 13.234375 26.265625 9.515625 29.90625 \nQ 5.8125 33.546875 5.8125 39.890625 \nQ 5.8125 47.609375 11.28125 51.796875 \nQ 16.75 56 26.8125 56 \nQ 31.78125 56 36.171875 55.265625 \nQ 40.578125 54.546875 44.28125 53.078125 \nz\n\" id=\"DejaVuSans-115\"/>\n       <path d=\"M 34.28125 27.484375 \nQ 23.390625 27.484375 19.1875 25 \nQ 14.984375 22.515625 14.984375 16.5 \nQ 14.984375 11.71875 18.140625 8.90625 \nQ 21.296875 6.109375 26.703125 6.109375 \nQ 34.1875 6.109375 38.703125 11.40625 \nQ 43.21875 16.703125 43.21875 25.484375 \nL 43.21875 27.484375 \nz\nM 52.203125 31.203125 \nL 52.203125 0 \nL 43.21875 0 \nL 43.21875 8.296875 \nQ 40.140625 3.328125 35.546875 0.953125 \nQ 30.953125 -1.421875 24.3125 -1.421875 \nQ 15.921875 -1.421875 10.953125 3.296875 \nQ 6 8.015625 6 15.921875 \nQ 6 25.140625 12.171875 29.828125 \nQ 18.359375 34.515625 30.609375 34.515625 \nL 43.21875 34.515625 \nL 43.21875 35.40625 \nQ 43.21875 41.609375 39.140625 45 \nQ 35.0625 48.390625 27.6875 48.390625 \nQ 23 48.390625 18.546875 47.265625 \nQ 14.109375 46.140625 10.015625 43.890625 \nL 10.015625 52.203125 \nQ 14.9375 54.109375 19.578125 55.046875 \nQ 24.21875 56 28.609375 56 \nQ 40.484375 56 46.34375 49.84375 \nQ 52.203125 43.703125 52.203125 31.203125 \nz\n\" id=\"DejaVuSans-97\"/>\n       <path d=\"M 9.421875 75.984375 \nL 18.40625 75.984375 \nL 18.40625 0 \nL 9.421875 0 \nz\n\" id=\"DejaVuSans-108\"/>\n       <path d=\"M 56.203125 29.59375 \nL 56.203125 25.203125 \nL 14.890625 25.203125 \nQ 15.484375 15.921875 20.484375 11.0625 \nQ 25.484375 6.203125 34.421875 6.203125 \nQ 39.59375 6.203125 44.453125 7.46875 \nQ 49.3125 8.734375 54.109375 11.28125 \nL 54.109375 2.78125 \nQ 49.265625 0.734375 44.1875 -0.34375 \nQ 39.109375 -1.421875 33.890625 -1.421875 \nQ 20.796875 -1.421875 13.15625 6.1875 \nQ 5.515625 13.8125 5.515625 26.8125 \nQ 5.515625 40.234375 12.765625 48.109375 \nQ 20.015625 56 32.328125 56 \nQ 43.359375 56 49.78125 48.890625 \nQ 56.203125 41.796875 56.203125 29.59375 \nz\nM 47.21875 32.234375 \nQ 47.125 39.59375 43.09375 43.984375 \nQ 39.0625 48.390625 32.421875 48.390625 \nQ 24.90625 48.390625 20.390625 44.140625 \nQ 15.875 39.890625 15.1875 32.171875 \nz\n\" id=\"DejaVuSans-101\"/>\n      </defs>\n      <use xlink:href=\"#DejaVuSans-78\"/>\n      <use x=\"74.804688\" xlink:href=\"#DejaVuSans-111\"/>\n      <use x=\"135.986328\" xlink:href=\"#DejaVuSans-32\"/>\n      <use x=\"167.773438\" xlink:href=\"#DejaVuSans-111\"/>\n      <use x=\"228.955078\" xlink:href=\"#DejaVuSans-102\"/>\n      <use x=\"264.160156\" xlink:href=\"#DejaVuSans-32\"/>\n      <use x=\"295.947266\" xlink:href=\"#DejaVuSans-115\"/>\n      <use x=\"348.046875\" xlink:href=\"#DejaVuSans-97\"/>\n      <use x=\"409.326172\" xlink:href=\"#DejaVuSans-108\"/>\n      <use x=\"437.109375\" xlink:href=\"#DejaVuSans-101\"/>\n      <use x=\"498.632812\" xlink:href=\"#DejaVuSans-115\"/>\n     </g>\n    </g>\n   </g>\n   <g id=\"matplotlib.axis_2\">\n    <g id=\"ytick_1\">\n     <g id=\"line2d_9\">\n      <defs>\n       <path d=\"M 0 0 \nL -3.5 0 \n\" id=\"m5db1c08206\" style=\"stroke:#000000;stroke-width:0.8;\"/>\n      </defs>\n      <g>\n       <use style=\"stroke:#000000;stroke-width:0.8;\" x=\"46.965625\" xlink:href=\"#m5db1c08206\" y=\"239.758125\"/>\n      </g>\n     </g>\n     <g id=\"text_10\">\n      <!-- 0 -->\n      <g transform=\"translate(33.603125 243.557344)scale(0.1 -0.1)\">\n       <use xlink:href=\"#DejaVuSans-48\"/>\n      </g>\n     </g>\n    </g>\n    <g id=\"ytick_2\">\n     <g id=\"line2d_10\">\n      <g>\n       <use style=\"stroke:#000000;stroke-width:0.8;\" x=\"46.965625\" xlink:href=\"#m5db1c08206\" y=\"211.848999\"/>\n      </g>\n     </g>\n     <g id=\"text_11\">\n      <!-- 50 -->\n      <g transform=\"translate(27.240625 215.648218)scale(0.1 -0.1)\">\n       <use xlink:href=\"#DejaVuSans-53\"/>\n       <use x=\"63.623047\" xlink:href=\"#DejaVuSans-48\"/>\n      </g>\n     </g>\n    </g>\n    <g id=\"ytick_3\">\n     <g id=\"line2d_11\">\n      <g>\n       <use style=\"stroke:#000000;stroke-width:0.8;\" x=\"46.965625\" xlink:href=\"#m5db1c08206\" y=\"183.939873\"/>\n      </g>\n     </g>\n     <g id=\"text_12\">\n      <!-- 100 -->\n      <g transform=\"translate(20.878125 187.739092)scale(0.1 -0.1)\">\n       <use xlink:href=\"#DejaVuSans-49\"/>\n       <use x=\"63.623047\" xlink:href=\"#DejaVuSans-48\"/>\n       <use x=\"127.246094\" xlink:href=\"#DejaVuSans-48\"/>\n      </g>\n     </g>\n    </g>\n    <g id=\"ytick_4\">\n     <g id=\"line2d_12\">\n      <g>\n       <use style=\"stroke:#000000;stroke-width:0.8;\" x=\"46.965625\" xlink:href=\"#m5db1c08206\" y=\"156.030747\"/>\n      </g>\n     </g>\n     <g id=\"text_13\">\n      <!-- 150 -->\n      <g transform=\"translate(20.878125 159.829966)scale(0.1 -0.1)\">\n       <use xlink:href=\"#DejaVuSans-49\"/>\n       <use x=\"63.623047\" xlink:href=\"#DejaVuSans-53\"/>\n       <use x=\"127.246094\" xlink:href=\"#DejaVuSans-48\"/>\n      </g>\n     </g>\n    </g>\n    <g id=\"ytick_5\">\n     <g id=\"line2d_13\">\n      <g>\n       <use style=\"stroke:#000000;stroke-width:0.8;\" x=\"46.965625\" xlink:href=\"#m5db1c08206\" y=\"128.121621\"/>\n      </g>\n     </g>\n     <g id=\"text_14\">\n      <!-- 200 -->\n      <g transform=\"translate(20.878125 131.92084)scale(0.1 -0.1)\">\n       <use xlink:href=\"#DejaVuSans-50\"/>\n       <use x=\"63.623047\" xlink:href=\"#DejaVuSans-48\"/>\n       <use x=\"127.246094\" xlink:href=\"#DejaVuSans-48\"/>\n      </g>\n     </g>\n    </g>\n    <g id=\"ytick_6\">\n     <g id=\"line2d_14\">\n      <g>\n       <use style=\"stroke:#000000;stroke-width:0.8;\" x=\"46.965625\" xlink:href=\"#m5db1c08206\" y=\"100.212495\"/>\n      </g>\n     </g>\n     <g id=\"text_15\">\n      <!-- 250 -->\n      <g transform=\"translate(20.878125 104.011714)scale(0.1 -0.1)\">\n       <use xlink:href=\"#DejaVuSans-50\"/>\n       <use x=\"63.623047\" xlink:href=\"#DejaVuSans-53\"/>\n       <use x=\"127.246094\" xlink:href=\"#DejaVuSans-48\"/>\n      </g>\n     </g>\n    </g>\n    <g id=\"ytick_7\">\n     <g id=\"line2d_15\">\n      <g>\n       <use style=\"stroke:#000000;stroke-width:0.8;\" x=\"46.965625\" xlink:href=\"#m5db1c08206\" y=\"72.30337\"/>\n      </g>\n     </g>\n     <g id=\"text_16\">\n      <!-- 300 -->\n      <g transform=\"translate(20.878125 76.102588)scale(0.1 -0.1)\">\n       <use xlink:href=\"#DejaVuSans-51\"/>\n       <use x=\"63.623047\" xlink:href=\"#DejaVuSans-48\"/>\n       <use x=\"127.246094\" xlink:href=\"#DejaVuSans-48\"/>\n      </g>\n     </g>\n    </g>\n    <g id=\"ytick_8\">\n     <g id=\"line2d_16\">\n      <g>\n       <use style=\"stroke:#000000;stroke-width:0.8;\" x=\"46.965625\" xlink:href=\"#m5db1c08206\" y=\"44.394244\"/>\n      </g>\n     </g>\n     <g id=\"text_17\">\n      <!-- 350 -->\n      <g transform=\"translate(20.878125 48.193462)scale(0.1 -0.1)\">\n       <use xlink:href=\"#DejaVuSans-51\"/>\n       <use x=\"63.623047\" xlink:href=\"#DejaVuSans-53\"/>\n       <use x=\"127.246094\" xlink:href=\"#DejaVuSans-48\"/>\n      </g>\n     </g>\n    </g>\n    <g id=\"text_18\">\n     <!-- No of customers -->\n     <g transform=\"translate(14.798438 171.985)rotate(-90)scale(0.1 -0.1)\">\n      <defs>\n       <path d=\"M 48.78125 52.59375 \nL 48.78125 44.1875 \nQ 44.96875 46.296875 41.140625 47.34375 \nQ 37.3125 48.390625 33.40625 48.390625 \nQ 24.65625 48.390625 19.8125 42.84375 \nQ 14.984375 37.3125 14.984375 27.296875 \nQ 14.984375 17.28125 19.8125 11.734375 \nQ 24.65625 6.203125 33.40625 6.203125 \nQ 37.3125 6.203125 41.140625 7.25 \nQ 44.96875 8.296875 48.78125 10.40625 \nL 48.78125 2.09375 \nQ 45.015625 0.34375 40.984375 -0.53125 \nQ 36.96875 -1.421875 32.421875 -1.421875 \nQ 20.0625 -1.421875 12.78125 6.34375 \nQ 5.515625 14.109375 5.515625 27.296875 \nQ 5.515625 40.671875 12.859375 48.328125 \nQ 20.21875 56 33.015625 56 \nQ 37.15625 56 41.109375 55.140625 \nQ 45.0625 54.296875 48.78125 52.59375 \nz\n\" id=\"DejaVuSans-99\"/>\n       <path d=\"M 8.5 21.578125 \nL 8.5 54.6875 \nL 17.484375 54.6875 \nL 17.484375 21.921875 \nQ 17.484375 14.15625 20.5 10.265625 \nQ 23.53125 6.390625 29.59375 6.390625 \nQ 36.859375 6.390625 41.078125 11.03125 \nQ 45.3125 15.671875 45.3125 23.6875 \nL 45.3125 54.6875 \nL 54.296875 54.6875 \nL 54.296875 0 \nL 45.3125 0 \nL 45.3125 8.40625 \nQ 42.046875 3.421875 37.71875 1 \nQ 33.40625 -1.421875 27.6875 -1.421875 \nQ 18.265625 -1.421875 13.375 4.4375 \nQ 8.5 10.296875 8.5 21.578125 \nz\nM 31.109375 56 \nz\n\" id=\"DejaVuSans-117\"/>\n       <path d=\"M 18.3125 70.21875 \nL 18.3125 54.6875 \nL 36.8125 54.6875 \nL 36.8125 47.703125 \nL 18.3125 47.703125 \nL 18.3125 18.015625 \nQ 18.3125 11.328125 20.140625 9.421875 \nQ 21.96875 7.515625 27.59375 7.515625 \nL 36.8125 7.515625 \nL 36.8125 0 \nL 27.59375 0 \nQ 17.1875 0 13.234375 3.875 \nQ 9.28125 7.765625 9.28125 18.015625 \nL 9.28125 47.703125 \nL 2.6875 47.703125 \nL 2.6875 54.6875 \nL 9.28125 54.6875 \nL 9.28125 70.21875 \nz\n\" id=\"DejaVuSans-116\"/>\n       <path d=\"M 52 44.1875 \nQ 55.375 50.25 60.0625 53.125 \nQ 64.75 56 71.09375 56 \nQ 79.640625 56 84.28125 50.015625 \nQ 88.921875 44.046875 88.921875 33.015625 \nL 88.921875 0 \nL 79.890625 0 \nL 79.890625 32.71875 \nQ 79.890625 40.578125 77.09375 44.375 \nQ 74.3125 48.1875 68.609375 48.1875 \nQ 61.625 48.1875 57.5625 43.546875 \nQ 53.515625 38.921875 53.515625 30.90625 \nL 53.515625 0 \nL 44.484375 0 \nL 44.484375 32.71875 \nQ 44.484375 40.625 41.703125 44.40625 \nQ 38.921875 48.1875 33.109375 48.1875 \nQ 26.21875 48.1875 22.15625 43.53125 \nQ 18.109375 38.875 18.109375 30.90625 \nL 18.109375 0 \nL 9.078125 0 \nL 9.078125 54.6875 \nL 18.109375 54.6875 \nL 18.109375 46.1875 \nQ 21.1875 51.21875 25.484375 53.609375 \nQ 29.78125 56 35.6875 56 \nQ 41.65625 56 45.828125 52.96875 \nQ 50 49.953125 52 44.1875 \nz\n\" id=\"DejaVuSans-109\"/>\n       <path d=\"M 41.109375 46.296875 \nQ 39.59375 47.171875 37.8125 47.578125 \nQ 36.03125 48 33.890625 48 \nQ 26.265625 48 22.1875 43.046875 \nQ 18.109375 38.09375 18.109375 28.8125 \nL 18.109375 0 \nL 9.078125 0 \nL 9.078125 54.6875 \nL 18.109375 54.6875 \nL 18.109375 46.1875 \nQ 20.953125 51.171875 25.484375 53.578125 \nQ 30.03125 56 36.53125 56 \nQ 37.453125 56 38.578125 55.875 \nQ 39.703125 55.765625 41.0625 55.515625 \nz\n\" id=\"DejaVuSans-114\"/>\n      </defs>\n      <use xlink:href=\"#DejaVuSans-78\"/>\n      <use x=\"74.804688\" xlink:href=\"#DejaVuSans-111\"/>\n      <use x=\"135.986328\" xlink:href=\"#DejaVuSans-32\"/>\n      <use x=\"167.773438\" xlink:href=\"#DejaVuSans-111\"/>\n      <use x=\"228.955078\" xlink:href=\"#DejaVuSans-102\"/>\n      <use x=\"264.160156\" xlink:href=\"#DejaVuSans-32\"/>\n      <use x=\"295.947266\" xlink:href=\"#DejaVuSans-99\"/>\n      <use x=\"350.927734\" xlink:href=\"#DejaVuSans-117\"/>\n      <use x=\"414.306641\" xlink:href=\"#DejaVuSans-115\"/>\n      <use x=\"466.40625\" xlink:href=\"#DejaVuSans-116\"/>\n      <use x=\"505.615234\" xlink:href=\"#DejaVuSans-111\"/>\n      <use x=\"566.796875\" xlink:href=\"#DejaVuSans-109\"/>\n      <use x=\"664.208984\" xlink:href=\"#DejaVuSans-101\"/>\n      <use x=\"725.732422\" xlink:href=\"#DejaVuSans-114\"/>\n      <use x=\"766.845703\" xlink:href=\"#DejaVuSans-115\"/>\n     </g>\n    </g>\n   </g>\n   <g id=\"patch_35\">\n    <path d=\"M 46.965625 239.758125 \nL 46.965625 22.318125 \n\" style=\"fill:none;stroke:#000000;stroke-linecap:square;stroke-linejoin:miter;stroke-width:0.8;\"/>\n   </g>\n   <g id=\"patch_36\">\n    <path d=\"M 381.765625 239.758125 \nL 381.765625 22.318125 \n\" style=\"fill:none;stroke:#000000;stroke-linecap:square;stroke-linejoin:miter;stroke-width:0.8;\"/>\n   </g>\n   <g id=\"patch_37\">\n    <path d=\"M 46.965625 239.758125 \nL 381.765625 239.758125 \n\" style=\"fill:none;stroke:#000000;stroke-linecap:square;stroke-linejoin:miter;stroke-width:0.8;\"/>\n   </g>\n   <g id=\"patch_38\">\n    <path d=\"M 46.965625 22.318125 \nL 381.765625 22.318125 \n\" style=\"fill:none;stroke:#000000;stroke-linecap:square;stroke-linejoin:miter;stroke-width:0.8;\"/>\n   </g>\n   <g id=\"text_19\">\n    <!-- No of sales per customers -->\n    <g transform=\"translate(136.16125 16.318125)scale(0.12 -0.12)\">\n     <defs>\n      <path d=\"M 18.109375 8.203125 \nL 18.109375 -20.796875 \nL 9.078125 -20.796875 \nL 9.078125 54.6875 \nL 18.109375 54.6875 \nL 18.109375 46.390625 \nQ 20.953125 51.265625 25.265625 53.625 \nQ 29.59375 56 35.59375 56 \nQ 45.5625 56 51.78125 48.09375 \nQ 58.015625 40.1875 58.015625 27.296875 \nQ 58.015625 14.40625 51.78125 6.484375 \nQ 45.5625 -1.421875 35.59375 -1.421875 \nQ 29.59375 -1.421875 25.265625 0.953125 \nQ 20.953125 3.328125 18.109375 8.203125 \nz\nM 48.6875 27.296875 \nQ 48.6875 37.203125 44.609375 42.84375 \nQ 40.53125 48.484375 33.40625 48.484375 \nQ 26.265625 48.484375 22.1875 42.84375 \nQ 18.109375 37.203125 18.109375 27.296875 \nQ 18.109375 17.390625 22.1875 11.75 \nQ 26.265625 6.109375 33.40625 6.109375 \nQ 40.53125 6.109375 44.609375 11.75 \nQ 48.6875 17.390625 48.6875 27.296875 \nz\n\" id=\"DejaVuSans-112\"/>\n     </defs>\n     <use xlink:href=\"#DejaVuSans-78\"/>\n     <use x=\"74.804688\" xlink:href=\"#DejaVuSans-111\"/>\n     <use x=\"135.986328\" xlink:href=\"#DejaVuSans-32\"/>\n     <use x=\"167.773438\" xlink:href=\"#DejaVuSans-111\"/>\n     <use x=\"228.955078\" xlink:href=\"#DejaVuSans-102\"/>\n     <use x=\"264.160156\" xlink:href=\"#DejaVuSans-32\"/>\n     <use x=\"295.947266\" xlink:href=\"#DejaVuSans-115\"/>\n     <use x=\"348.046875\" xlink:href=\"#DejaVuSans-97\"/>\n     <use x=\"409.326172\" xlink:href=\"#DejaVuSans-108\"/>\n     <use x=\"437.109375\" xlink:href=\"#DejaVuSans-101\"/>\n     <use x=\"498.632812\" xlink:href=\"#DejaVuSans-115\"/>\n     <use x=\"550.732422\" xlink:href=\"#DejaVuSans-32\"/>\n     <use x=\"582.519531\" xlink:href=\"#DejaVuSans-112\"/>\n     <use x=\"645.996094\" xlink:href=\"#DejaVuSans-101\"/>\n     <use x=\"707.519531\" xlink:href=\"#DejaVuSans-114\"/>\n     <use x=\"748.632812\" xlink:href=\"#DejaVuSans-32\"/>\n     <use x=\"780.419922\" xlink:href=\"#DejaVuSans-99\"/>\n     <use x=\"835.400391\" xlink:href=\"#DejaVuSans-117\"/>\n     <use x=\"898.779297\" xlink:href=\"#DejaVuSans-115\"/>\n     <use x=\"950.878906\" xlink:href=\"#DejaVuSans-116\"/>\n     <use x=\"990.087891\" xlink:href=\"#DejaVuSans-111\"/>\n     <use x=\"1051.269531\" xlink:href=\"#DejaVuSans-109\"/>\n     <use x=\"1148.681641\" xlink:href=\"#DejaVuSans-101\"/>\n     <use x=\"1210.205078\" xlink:href=\"#DejaVuSans-114\"/>\n     <use x=\"1251.318359\" xlink:href=\"#DejaVuSans-115\"/>\n    </g>\n   </g>\n  </g>\n </g>\n <defs>\n  <clipPath id=\"p2713632e0a\">\n   <rect height=\"217.44\" width=\"334.8\" x=\"46.965625\" y=\"22.318125\"/>\n  </clipPath>\n </defs>\n</svg>\n",
      "image/png": "[encoded data removed]"
     },
     "metadata": {
      "needs_background": "light"
     }
    }
   ],
   "source": [
    "#no of purchases per customers\n",
    "customer_purchase = {}\n",
    "for i in range(n_data):\n",
    "    if data['member_id'][i] in customer_purchase:\n",
    "        customer_purchase[data['member_id'][i]] += 1\n",
    "    else:\n",
    "        customer_purchase[data['member_id'][i]] = 1\n",
    "\n",
    "no_purchase = {}\n",
    "for i in customer_purchase:\n",
    "    if customer_purchase[i] in no_purchase:\n",
    "        no_purchase[customer_purchase[i]] += 1\n",
    "    else:\n",
    "        no_purchase[customer_purchase[i]] = 1\n",
    "\n",
    "od_purchase = collections.OrderedDict(sorted(no_purchase.items()))\n",
    "plt.bar(od_purchase.keys(),od_purchase.values())\n",
    "plt.xlabel('No of sales')\n",
    "plt.ylabel('No of customers')\n",
    "plt.title('No of sales per customers')\n",
    "plt.show()"
   ]
  },
  {
   "cell_type": "code",
   "execution_count": 9,
   "metadata": {
    "tags": []
   },
   "outputs": [
    {
     "output_type": "stream",
     "name": "stdout",
     "text": [
      "In 2014 the most sales occure at week of Thursday with  2738 sales and minimum at the week of Sunday with 2536 sales\n\n\nIn 2015 the most sales occure at week of Wednesday with 3021 sales and minimum at the week of Monday with 2789 sales\n"
     ]
    }
   ],
   "source": [
    "#most and least sales per weekday\n",
    "weekday =  {'Monday':0,'Tuesday':0,'Wednesday':0,'Thursday':0,'Friday':0,'Saturday':0,'Sunday':0}\n",
    "weekday_2015 = {'Monday':0,'Tuesday':0,'Wednesday':0,'Thursday':0,'Friday':0,'Saturday':0,'Sunday':0}\n",
    "weekday_2014 = {'Monday':0,'Tuesday':0,'Wednesday':0,'Thursday':0,'Friday':0,'Saturday':0,'Sunday':0}\n",
    "for i in range(n_data):\n",
    "    if data['Year'][i] == 2014:\n",
    "        weekday_2014[data['Weekday'][i]] += 1\n",
    "        weekday[data['Weekday'][i]] += 1\n",
    "    else:\n",
    "        weekday_2015[data['Weekday'][i]] += 1\n",
    "        weekday[data['Weekday'][i]] += 1\n",
    "\n",
    "max_wk_2014 = max(weekday_2014, key = weekday_2014.get)\n",
    "min_wk_2014 = min(weekday_2014, key = weekday_2014.get)\n",
    "max_wk_2015 = max(weekday_2015, key = weekday_2015.get)\n",
    "min_wk_2015 = min(weekday_2015, key = weekday_2015.get)\n",
    "\n",
    "\n",
    "print(f'In 2014 the most sales occure at week of {max_wk_2014} with  {weekday_2014[max_wk_2014]} sales and minimum at the week of {min_wk_2014} with {weekday_2014[min_wk_2014]} sales')\n",
    "print('\\n')\n",
    "\n",
    "print(f'In 2015 the most sales occure at week of {max_wk_2015} with {weekday_2015[max_wk_2015]} sales and minimum at the week of {min_wk_2015} with {weekday_2015[min_wk_2015]} sales')"
   ]
  },
  {
   "cell_type": "code",
   "execution_count": 10,
   "metadata": {
    "tags": []
   },
   "outputs": [
    {
     "output_type": "stream",
     "name": "stdout",
     "text": [
      "In 2014 the most sales occure at month of May with 1615 sales and minimum at the month of March with 1615 sales\n\n\nIn 2015 the most sales occure at month of August with 1575 sales and minimum at the month of December with 1921 sales\n\n\n"
     ]
    }
   ],
   "source": [
    "#Most and least sales per month\n",
    "month_2015 = {'Jan': 0, 'Feb': 0, 'Mar': 0,'Apr':0,'May':0, 'Jun': 0, 'Jul': 0, 'Aug': 0, 'Sep': 0,'Oct': 0, 'Nov': 0, 'Dec': 0}\n",
    "month_2014 = {'Jan': 0, 'Feb': 0, 'Mar': 0,'Apr':0,'May':0, 'Jun': 0, 'Jul': 0, 'Aug': 0, 'Sep': 0,'Oct': 0, 'Nov': 0, 'Dec': 0}\n",
    "month_sales = {'Jan': 0, 'Feb': 0, 'Mar': 0,'Apr':0,'May':0, 'Jun': 0, 'Jul': 0, 'Aug': 0, 'Sep': 0,'Oct': 0, 'Nov': 0, 'Dec': 0}\n",
    "\n",
    "for i in range(n_data):\n",
    "    mon = monthName(data['Month'][i])\n",
    "    month_sales[mon] += 1\n",
    "\n",
    "    if data['Year'][i] == 2014:\n",
    "        month_2014[mon] += 1\n",
    "    else:\n",
    "        month_2015[mon] += 1\n",
    "\n",
    "max_2014 = max(month_2014, key = month_2014.get)\n",
    "min_2014 = min(month_2014, key = month_2014.get)\n",
    "max_2015 = max(month_2015, key = month_2015.get)\n",
    "min_2015 = min(month_2015, key = month_2015.get)\n",
    "\n",
    "print(f'In 2014 the most sales occure at month of {monthFull(max_2014)} with {month_2014[max_2014]} sales and minimum at the month of {monthFull(min_2014)} with {month_2014[max_2014]} sales')\n",
    "print('\\n')\n",
    "\n",
    "print(f'In 2015 the most sales occure at month of {monthFull(max_2015)} with {month_2014[max_2015]} sales and minimum at the month of {monthFull(min_2015)} with {month_2015[max_2015]} sales')\n",
    "print('\\n')"
   ]
  },
  {
   "cell_type": "code",
   "execution_count": 11,
   "metadata": {
    "tags": []
   },
   "outputs": [
    {
     "output_type": "stream",
     "name": "stdout",
     "text": [
      "There is no repeted customers in year 2014 and 2015\n",
      "\n",
      "\n",
      "There are 639 repeted customers in 2nd querter from 1st querter of 2014\n",
      "There are 453 repeted customers in 3nd querter from 2st querter of 2014\n",
      "There are 318 repeted customers in 4nd querter from 3st querter of 2014\n"
     ]
    }
   ],
   "source": [
    "#repeted customer\n",
    "cus_2014 = qtrYear(data, 2014)\n",
    "cus_2015 = qtrYear(data, 2015)\n",
    "\n",
    "rep_yr = repCustomer(data_2014,data_2015)\n",
    "new_yr = newCustomer(data_2014,data_2015)\n",
    "\n",
    "if not rep_yr:\n",
    "    print('There is no repeted customers in year 2014 and 2015')\n",
    "else:\n",
    "    print(f'There are {rep_yr} regular customers from 2014 to 2015')\n",
    "print('\\n')\n",
    "\n",
    "t_04_1 = np.unique(repCustomer(cus_2014['q1'] , cus_2014['q2']))\n",
    "t_04_2 = np.unique(repCustomer(cus_2014['q2'] , cus_2014['q3']))\n",
    "t_04_3 = np.unique(repCustomer(cus_2014['q3'] , cus_2014['q4']))\n",
    "\n",
    "print(f'There are {len(t_04_1)} repeted customers in 2nd querter from 1st querter of 2014')\n",
    "print(f'There are {len(t_04_2)} repeted customers in 3nd querter from 2st querter of 2014')\n",
    "print(f'There are {len(t_04_3)} repeted customers in 4nd querter from 3st querter of 2014')\n"
   ]
  },
  {
   "cell_type": "code",
   "execution_count": 12,
   "metadata": {},
   "outputs": [
    {
     "output_type": "stream",
     "name": "stdout",
     "text": [
      "The customers who purchased more are 3180 with 36 purchases \n3737 with 33 purchases \n3050 with 33 purchases \n2051 with 33 purchases \n3915 with 31 purchases\n"
     ]
    }
   ],
   "source": [
    "mem_id = {}\n",
    "for i in range(n_data):\n",
    "    if data['member_id'][i] in mem_id:\n",
    "        mem_id[data['member_id'][i]] += 1\n",
    "    else:\n",
    "        mem_id[data['member_id'][i]] = 1\n",
    "    \n",
    "mem_largest = nlargest(5, mem_id, key=mem_id.get)\n",
    "\n",
    "print(f'The customers who purchased more are {mem_largest[0]} with {mem_id[mem_largest[0]]} purchases \\n{mem_largest[1]} with {mem_id[mem_largest[1]]} purchases \\n{mem_largest[2]} with {mem_id[mem_largest[2]]} purchases \\n{mem_largest[3]} with {mem_id[mem_largest[3]]} purchases \\n{mem_largest[4]} with {mem_id[mem_largest[4]]} purchases')"
   ]
  },
  {
   "cell_type": "code",
   "execution_count": 13,
   "metadata": {},
   "outputs": [
    {
     "output_type": "stream",
     "name": "stdout",
     "text": [
      "The most saled 5 products are whole milk with 2502 times \nother vegetables with 1898 times \nrolls/buns with 1716 times \nsoda with 1514 times \nyogurt with 1334times\n\n\n"
     ]
    }
   ],
   "source": [
    "product = {}\n",
    "for i in range(n_data):\n",
    "    if data['itemDescription'][i] in product:\n",
    "        product[data['itemDescription'][i]] += 1\n",
    "    else:\n",
    "        product[data['itemDescription'][i]] = 1\n",
    "        \n",
    "pro_largest = nlargest(5, product, key = product.get)\n",
    "\n",
    "print(f'The most saled 5 products are {pro_largest[0]} with {product[pro_largest[0]]} times \\n{pro_largest[1]} with {product[pro_largest[1]]} times \\n{pro_largest[2]} with {product[pro_largest[2]]} times \\n{pro_largest[3]} with {product[pro_largest[3]]} times \\n{pro_largest[4]} with {product[pro_largest[4]]}times')\n",
    "print('\\n')  "
   ]
  },
  {
   "cell_type": "code",
   "execution_count": 14,
   "metadata": {},
   "outputs": [
    {
     "output_type": "stream",
     "name": "stdout",
     "text": [
      "The total no of data is 38765 in which 18277 from 2014 and rest 20488 from 2015. We have a total of 3898 customers and 167 products in the data.\n\n\nThe most saled 5 products are whole milk with 2502 times \nother vegetables with 1898 times \nrolls/buns with 1716 times \nsoda with 1514 times \nyogurt with 1334times\n\n\nThe customers who purchased more are 3180 with 36 purchases \n3737 with 33 purchases \n3050 with 33 purchases \n2051 with 33 purchases \n3915 with 31 purchases\n\n\nThere is no repeted customers in year 2014 and 2015\n\n\nIn 2014 the most sales occure at month of May with a sales of 1615 and minimum at the month of March with a sales of 1615\n\n\nIn 2015 the most sales occure at month of August with a sales of 1575 and minimum at the month of December with a sales of 1921\n\n\nIn 2014 the most sales occure at week of Thursday with a sales of 2738 and minimum at the week of Sunday with a sales of 2536\n\n\nIn 2015 the most sales occure at week of Wednesday with a sales of 3021 and minimum at the week of Monday with a sales of 2789\n"
     ]
    }
   ],
   "source": [
    "#Report\n",
    "print(f'The total no of data is {n_data} in which {sales_2014} from 2014 and rest {sales_2015} from 2015. We have a total of {no_customer} customers and {no_pro} products in the data.')\n",
    "print('\\n')\n",
    "\n",
    "print(f'The most saled 5 products are {pro_largest[0]} with {product[pro_largest[0]]} times \\n{pro_largest[1]} with {product[pro_largest[1]]} times \\n{pro_largest[2]} with {product[pro_largest[2]]} times \\n{pro_largest[3]} with {product[pro_largest[3]]} times \\n{pro_largest[4]} with {product[pro_largest[4]]}times')\n",
    "print('\\n')     \n",
    "\n",
    "print(f'The customers who purchased more are {mem_largest[0]} with {mem_id[mem_largest[0]]} purchases \\n{mem_largest[1]} with {mem_id[mem_largest[1]]} purchases \\n{mem_largest[2]} with {mem_id[mem_largest[2]]} purchases \\n{mem_largest[3]} with {mem_id[mem_largest[3]]} purchases \\n{mem_largest[4]} with {mem_id[mem_largest[4]]} purchases')\n",
    "print('\\n')\n",
    "\n",
    "if not rep_yr:\n",
    "    print('There is no repeted customers in year 2014 and 2015')\n",
    "else:\n",
    "    print(f'There are {rep_yr} regular customers')\n",
    "print('\\n')\n",
    "\n",
    "print(f'In 2014 the most sales occure at month of {monthFull(max_2014)} with a sales of {month_2014[max_2014]} and minimum at the month of {monthFull(min_2014)} with a sales of {month_2014[max_2014]}')\n",
    "print('\\n')\n",
    "\n",
    "print(f'In 2015 the most sales occure at month of {monthFull(max_2015)} with a sales of {month_2014[max_2015]} and minimum at the month of {monthFull(min_2015)} with a sales of {month_2015[max_2015]}')\n",
    "print('\\n')\n",
    "\n",
    "print(f'In 2014 the most sales occure at week of {max_wk_2014} with a sales of {weekday_2014[max_wk_2014]} and minimum at the week of {min_wk_2014} with a sales of {weekday_2014[min_wk_2014]}')\n",
    "print('\\n')\n",
    "\n",
    "print(f'In 2015 the most sales occure at week of {max_wk_2015} with a sales of {weekday_2015[max_wk_2015]} and minimum at the week of {min_wk_2015} with a sales of {weekday_2015[min_wk_2015]}')"
   ]
  },
  {
   "cell_type": "code",
   "execution_count": null,
   "metadata": {},
   "outputs": [],
   "source": []
  }
 ],
 "metadata": {
  "kernelspec": {
   "display_name": "Python 3",
   "language": "python",
   "name": "python3"
  },
  "language_info": {
   "codemirror_mode": {
    "name": "ipython",
    "version": 3
   },
   "file_extension": ".py",
   "mimetype": "text/x-python",
   "name": "python",
   "nbconvert_exporter": "python",
   "pygments_lexer": "ipython3",
   "version": "3.8.5-final"
  }
 },
 "nbformat": 4,
 "nbformat_minor": 5
}